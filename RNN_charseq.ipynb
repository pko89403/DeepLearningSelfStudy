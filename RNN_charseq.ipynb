{
  "nbformat": 4,
  "nbformat_minor": 0,
  "metadata": {
    "colab": {
      "name": "RNN_charseq.ipynb",
      "provenance": [],
      "toc_visible": true,
      "authorship_tag": "ABX9TyPsAEdhafACSj7RVpIZsA9m",
      "include_colab_link": true
    },
    "kernelspec": {
      "name": "python3",
      "display_name": "Python 3"
    },
    "accelerator": "GPU"
  },
  "cells": [
    {
      "cell_type": "markdown",
      "metadata": {
        "id": "view-in-github",
        "colab_type": "text"
      },
      "source": [
        "<a href=\"https://colab.research.google.com/github/pko89403/DeepLearningSelfStudy/blob/master/RNN_charseq.ipynb\" target=\"_parent\"><img src=\"https://colab.research.google.com/assets/colab-badge.svg\" alt=\"Open In Colab\"/></a>"
      ]
    },
    {
      "cell_type": "markdown",
      "metadata": {
        "id": "-u1ncEtRlsRQ",
        "colab_type": "text"
      },
      "source": [
        "# 다음 단어를 예측하는 파이토치 RNN   \n",
        "## Hi Hello,  H -> ?     I ? E ?"
      ]
    },
    {
      "cell_type": "code",
      "metadata": {
        "id": "f--pEt8Vlklr",
        "colab_type": "code",
        "colab": {}
      },
      "source": [
        "char_set = ['h', 'i' , 'e', 'l', 'o']"
      ],
      "execution_count": 0,
      "outputs": []
    },
    {
      "cell_type": "code",
      "metadata": {
        "id": "V94W-jxRnhLQ",
        "colab_type": "code",
        "colab": {}
      },
      "source": [
        "# 하이퍼 파라미터\n",
        "input_size = len(char_set)\n",
        "hidden_size = len(char_set)\n",
        "learning_rate = 0.1"
      ],
      "execution_count": 0,
      "outputs": []
    },
    {
      "cell_type": "code",
      "metadata": {
        "id": "5z8ZgTuBnnP9",
        "colab_type": "code",
        "colab": {}
      },
      "source": [
        "#  데이터 세팅\n",
        "x_data = [[0, 1, 0, 2, 3, 3]]\n",
        "x_one_hot = [[[1, 0, 0, 0, 0],\n",
        "                      [0, 1, 0, 0, 0],\n",
        "                      [1, 0, 0, 0, 0],\n",
        "                      [0, 0, 1, 0, 0],\n",
        "                      [0, 0, 0, 1, 0],              \n",
        "                      [0, 0, 0, 1, 0]]]\n",
        "y_data = [[1, 0, 2, 3, 3, 4]]"
      ],
      "execution_count": 0,
      "outputs": []
    },
    {
      "cell_type": "code",
      "metadata": {
        "id": "NBDXQ4uUojet",
        "colab_type": "code",
        "colab": {}
      },
      "source": [
        "import torch\n",
        "X = torch.FloatTensor(x_one_hot)\n",
        "Y =  torch.LongTensor(y_data)"
      ],
      "execution_count": 0,
      "outputs": []
    },
    {
      "cell_type": "code",
      "metadata": {
        "id": "ySWmB_WQose2",
        "colab_type": "code",
        "colab": {}
      },
      "source": [
        "sample = \" if you want  you\""
      ],
      "execution_count": 0,
      "outputs": []
    },
    {
      "cell_type": "code",
      "metadata": {
        "id": "t7rDwdjTpRyD",
        "colab_type": "code",
        "colab": {
          "base_uri": "https://localhost:8080/",
          "height": 35
        },
        "outputId": "a3146290-cf8e-49a6-a012-c001d97beef4"
      },
      "source": [
        "# make dictionary\n",
        "char_set = list(set(sample))\n",
        "char_dic = {c: i for i, c in enumerate(char_set)}\n",
        "\n",
        "print(char_set)"
      ],
      "execution_count": 6,
      "outputs": [
        {
          "output_type": "stream",
          "text": [
            "['w', 't', 'a', 'u', ' ', 'n', 'y', 'i', 'o', 'f']\n"
          ],
          "name": "stdout"
        }
      ]
    },
    {
      "cell_type": "code",
      "metadata": {
        "id": "t2y64k1upazV",
        "colab_type": "code",
        "colab": {}
      },
      "source": [
        "# hyper parameters\n",
        "dic_size = len(char_dic)\n",
        "hidden_size = len(char_dic)\n",
        "learning_rate = 0.1"
      ],
      "execution_count": 0,
      "outputs": []
    },
    {
      "cell_type": "code",
      "metadata": {
        "id": "yOBcwlYjpib2",
        "colab_type": "code",
        "colab": {
          "base_uri": "https://localhost:8080/",
          "height": 318
        },
        "outputId": "6b19ea6c-4830-4e16-d4e3-403687d1d471"
      },
      "source": [
        "import numpy as np \n",
        "# data setting\n",
        "sample_idx = [char_dic[c] for c in sample]\n",
        "x_data = [sample_idx[:-1]]\n",
        "print(x_data)\n",
        "x_one_hot = [np.eye(dic_size)[x] for x in x_data] # np.eye 는 identity matrix를 만들어 준다.  ( One-Hot Encode )\n",
        "y_data = [sample_idx[1:]]\n",
        "\n",
        "print(x_one_hot)"
      ],
      "execution_count": 8,
      "outputs": [
        {
          "output_type": "stream",
          "text": [
            "[[4, 7, 9, 4, 6, 8, 3, 4, 0, 2, 5, 1, 4, 4, 6, 8]]\n",
            "[array([[0., 0., 0., 0., 1., 0., 0., 0., 0., 0.],\n",
            "       [0., 0., 0., 0., 0., 0., 0., 1., 0., 0.],\n",
            "       [0., 0., 0., 0., 0., 0., 0., 0., 0., 1.],\n",
            "       [0., 0., 0., 0., 1., 0., 0., 0., 0., 0.],\n",
            "       [0., 0., 0., 0., 0., 0., 1., 0., 0., 0.],\n",
            "       [0., 0., 0., 0., 0., 0., 0., 0., 1., 0.],\n",
            "       [0., 0., 0., 1., 0., 0., 0., 0., 0., 0.],\n",
            "       [0., 0., 0., 0., 1., 0., 0., 0., 0., 0.],\n",
            "       [1., 0., 0., 0., 0., 0., 0., 0., 0., 0.],\n",
            "       [0., 0., 1., 0., 0., 0., 0., 0., 0., 0.],\n",
            "       [0., 0., 0., 0., 0., 1., 0., 0., 0., 0.],\n",
            "       [0., 1., 0., 0., 0., 0., 0., 0., 0., 0.],\n",
            "       [0., 0., 0., 0., 1., 0., 0., 0., 0., 0.],\n",
            "       [0., 0., 0., 0., 1., 0., 0., 0., 0., 0.],\n",
            "       [0., 0., 0., 0., 0., 0., 1., 0., 0., 0.],\n",
            "       [0., 0., 0., 0., 0., 0., 0., 0., 1., 0.]])]\n"
          ],
          "name": "stdout"
        }
      ]
    },
    {
      "cell_type": "code",
      "metadata": {
        "id": "h5fZiHtjpzDK",
        "colab_type": "code",
        "colab": {}
      },
      "source": [
        "X = torch.FloatTensor(x_one_hot)\n",
        "Y = torch.LongTensor(y_data)"
      ],
      "execution_count": 0,
      "outputs": []
    },
    {
      "cell_type": "code",
      "metadata": {
        "id": "0yBNHIHhqCwp",
        "colab_type": "code",
        "colab": {}
      },
      "source": [
        "#  declare RNN\n",
        "rnn = torch.nn.RNN(dic_size, hidden_size, batch_first=True) # 배치 앞으로 뺀다고"
      ],
      "execution_count": 0,
      "outputs": []
    },
    {
      "cell_type": "code",
      "metadata": {
        "id": "Q0gGpv56sVO0",
        "colab_type": "code",
        "colab": {}
      },
      "source": [
        "# loss & optimizer setting \n",
        "criterion = torch.nn.CrossEntropyLoss()\n",
        "optimizer = torch.optim.Adam(rnn.parameters(), learning_rate)"
      ],
      "execution_count": 0,
      "outputs": []
    },
    {
      "cell_type": "code",
      "metadata": {
        "id": "6I4P3sRys9NF",
        "colab_type": "code",
        "colab": {
          "base_uri": "https://localhost:8080/",
          "height": 214
        },
        "outputId": "b1023ae1-1798-4ea8-d678-6e0c7d6c979e"
      },
      "source": [
        "# start training\n",
        "for i in range(10):\n",
        "  optimizer.zero_grad()\n",
        "  outputs, _status = rnn(X)\n",
        "  loss = criterion(outputs.view(-1, dic_size), Y.view(-1))\n",
        "  loss.backward()\n",
        "  optimizer.step()\n",
        "  result = outputs.data.numpy().argmax(axis=2)\n",
        "  result_str = ''.join([char_set[c] for c in np.squeeze(result)])\n",
        "  print(i, \"loss : \", loss.item(), \" prediction : \", result , \" true Y : \" , y_data, \" prediction str : \", result_str)"
      ],
      "execution_count": 12,
      "outputs": [
        {
          "output_type": "stream",
          "text": [
            "0 loss :  2.3885157108306885  prediction :  [[0 3 0 0 0 0 0 1 7 0 0 1 0 1 0 0]]  true Y :  [[7, 9, 4, 6, 8, 3, 4, 0, 2, 5, 1, 4, 4, 6, 8, 3]]  prediction str :  wuwwwwwtiwwtwtww\n",
            "1 loss :  2.1048200130462646  prediction :  [[1 3 1 1 1 1 1 1 1 1 1 1 1 1 1 1]]  true Y :  [[7, 9, 4, 6, 8, 3, 4, 0, 2, 5, 1, 4, 4, 6, 8, 3]]  prediction str :  tutttttttttttttt\n",
            "2 loss :  1.8629164695739746  prediction :  [[4 3 4 4 8 3 4 4 2 3 1 4 4 4 8 3]]  true Y :  [[7, 9, 4, 6, 8, 3, 4, 0, 2, 5, 1, 4, 4, 6, 8, 3]]  prediction str :   u  ou  aut   ou\n",
            "3 loss :  1.6695724725723267  prediction :  [[4 3 4 4 8 3 4 4 2 3 1 4 4 4 8 3]]  true Y :  [[7, 9, 4, 6, 8, 3, 4, 0, 2, 5, 1, 4, 4, 6, 8, 3]]  prediction str :   u  ou  aut   ou\n",
            "4 loss :  1.525504231452942  prediction :  [[4 4 4 6 8 3 4 4 2 3 1 4 4 4 8 3]]  true Y :  [[7, 9, 4, 6, 8, 3, 4, 0, 2, 5, 1, 4, 4, 6, 8, 3]]  prediction str :     you  aut   ou\n",
            "5 loss :  1.410366415977478  prediction :  [[4 4 4 6 8 3 4 4 2 3 1 4 4 4 8 3]]  true Y :  [[7, 9, 4, 6, 8, 3, 4, 0, 2, 5, 1, 4, 4, 6, 8, 3]]  prediction str :     you  aut   ou\n",
            "6 loss :  1.3039265871047974  prediction :  [[4 4 4 6 8 3 4 4 2 5 1 4 4 4 8 3]]  true Y :  [[7, 9, 4, 6, 8, 3, 4, 0, 2, 5, 1, 4, 4, 6, 8, 3]]  prediction str :     you  ant   ou\n",
            "7 loss :  1.2239787578582764  prediction :  [[4 9 4 6 8 3 4 4 2 5 1 4 4 6 8 3]]  true Y :  [[7, 9, 4, 6, 8, 3, 4, 0, 2, 5, 1, 4, 4, 6, 8, 3]]  prediction str :   f you  ant  you\n",
            "8 loss :  1.1610982418060303  prediction :  [[7 9 4 6 8 3 4 4 2 5 1 4 4 6 8 3]]  true Y :  [[7, 9, 4, 6, 8, 3, 4, 0, 2, 5, 1, 4, 4, 6, 8, 3]]  prediction str :  if you  ant  you\n",
            "9 loss :  1.1113084554672241  prediction :  [[7 9 4 6 8 3 4 6 2 5 1 4 4 6 8 3]]  true Y :  [[7, 9, 4, 6, 8, 3, 4, 0, 2, 5, 1, 4, 4, 6, 8, 3]]  prediction str :  if you yant  you\n"
          ],
          "name": "stdout"
        }
      ]
    }
  ]
}