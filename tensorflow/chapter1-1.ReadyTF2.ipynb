{
 "metadata": {
  "language_info": {
   "codemirror_mode": {
    "name": "ipython",
    "version": 3
   },
   "file_extension": ".py",
   "mimetype": "text/x-python",
   "name": "python",
   "nbconvert_exporter": "python",
   "pygments_lexer": "ipython3",
   "version": "3.7.6-final"
  },
  "orig_nbformat": 2,
  "kernelspec": {
   "name": "Python 3.7.6 64-bit ('recsys': conda)",
   "display_name": "Python 3.7.6 64-bit ('recsys': conda)",
   "metadata": {
    "interpreter": {
     "hash": "3e3ae0fa4a725afc921f1dce64743fc1e87f342ba5748ca33788c7a9a65676b3"
    }
   }
  }
 },
 "nbformat": 4,
 "nbformat_minor": 2,
 "cells": [
  {
   "cell_type": "code",
   "execution_count": 17,
   "metadata": {},
   "outputs": [
    {
     "output_type": "stream",
     "name": "stderr",
     "text": [
      "Matplotlib is building the font cache; this may take a moment.\n"
     ]
    }
   ],
   "source": [
    "import tensorflow as tf \n",
    "tf.__version__\n",
    "import tsensor\n",
    "import sys "
   ]
  },
  {
   "cell_type": "code",
   "execution_count": 18,
   "metadata": {},
   "outputs": [],
   "source": [
    "W = tf.Variable(tf.random.uniform([5,10], -1.0, 1.0))\n",
    "b = tf.Variable(tf.zeros([10]))\n",
    "x = tf.constant(tf.random.uniform([10,1]))"
   ]
  },
  {
   "cell_type": "code",
   "execution_count": 23,
   "metadata": {},
   "outputs": [
    {
     "output_type": "display_data",
     "data": {
      "text/plain": "<IPython.core.display.SVG object>",
      "image/svg+xml": "<svg height=\"46.422278pt\" version=\"1.1\" viewBox=\"0 0 85.03405 46.422278\" width=\"85.03405pt\" xmlns=\"http://www.w3.org/2000/svg\" xmlns:xlink=\"http://www.w3.org/1999/xlink\">\n <metadata>\n  <rdf:RDF xmlns:cc=\"http://creativecommons.org/ns#\" xmlns:dc=\"http://purl.org/dc/elements/1.1/\" xmlns:rdf=\"http://www.w3.org/1999/02/22-rdf-syntax-ns#\">\n   <cc:Work>\n    <dc:type rdf:resource=\"http://purl.org/dc/dcmitype/StillImage\"/>\n    <dc:date>2020-10-20T13:04:33.138666</dc:date>\n    <dc:format>image/svg+xml</dc:format>\n    <dc:creator>\n     <cc:Agent>\n      <dc:title>Matplotlib v3.3.2, https://matplotlib.org/</dc:title>\n     </cc:Agent>\n    </dc:creator>\n   </cc:Work>\n  </rdf:RDF>\n </metadata>\n <defs>\n  <style type=\"text/css\">*{stroke-linecap:butt;stroke-linejoin:round;}</style>\n </defs>\n <g id=\"figure_1\">\n  <g id=\"patch_1\">\n   <path d=\"M 0 46.422278  L 85.03405 46.422278  L 85.03405 0  L 0 0  z \" style=\"fill:none;\"/>\n  </g>\n  <g id=\"axes_1\">\n   <g id=\"patch_2\">\n    <path clip-path=\"url(#pa01016bb5e)\" d=\"M 8.230781 45.606878  L 31.080881 45.606878  L 31.080881 23.346458  L 8.230781 23.346458  z \" style=\"fill:#cfe2d4;stroke:#808080;stroke-linejoin:miter;stroke-width:0.7;\"/>\n   </g>\n   <g id=\"patch_3\">\n    <path clip-path=\"url(#pa01016bb5e)\" d=\"M 51.319541 45.606878  L 56.542421 45.606878  L 56.542421 23.346458  L 51.319541 23.346458  z \" style=\"fill:#cfe2d4;stroke:#808080;stroke-linejoin:miter;stroke-width:0.7;\"/>\n   </g>\n   <g id=\"line2d_1\">\n    <path clip-path=\"url(#pa01016bb5e)\" d=\"M 15.738671 13.619216  L 23.572991 13.619216  \" style=\"fill:none;stroke:#c2c2c2;stroke-linecap:square;stroke-width:0.5;\"/>\n   </g>\n   <g id=\"line2d_2\">\n    <path clip-path=\"url(#pa01016bb5e)\" d=\"M 50.013821 13.619216  L 57.848141 13.619216  \" style=\"fill:none;stroke:#c2c2c2;stroke-linecap:square;stroke-width:0.5;\"/>\n   </g>\n   <g id=\"text_1\">\n    <!-- W -->\n    <g style=\"fill:#444443;\" transform=\"translate(16.391531 9.877969)scale(0.13 -0.13)\">\n     <defs>\n      <path d=\"M 3.328125 72.90625  L 13.28125 72.90625  L 28.609375 11.28125  L 43.890625 72.90625  L 54.984375 72.90625  L 70.3125 11.28125  L 85.59375 72.90625  L 95.609375 72.90625  L 77.296875 0  L 64.890625 0  L 49.515625 63.28125  L 33.984375 0  L 21.578125 0  z \" id=\"DejaVuSans-87\"/>\n     </defs>\n     <use xlink:href=\"#DejaVuSans-87\"/>\n    </g>\n   </g>\n   <g id=\"text_2\">\n    <!--   -->\n    <g style=\"fill:#b4b4b4;\" transform=\"translate(31.080881 9.877969)scale(0.13 -0.13)\">\n     <defs>\n      <path id=\"DejaVuSans-32\"/>\n     </defs>\n     <use xlink:href=\"#DejaVuSans-32\"/>\n    </g>\n   </g>\n   <g id=\"text_3\">\n    <!-- * -->\n    <g style=\"fill:#a40227;\" transform=\"translate(37.609481 9.877969)scale(0.13 -0.13)\">\n     <defs>\n      <path d=\"M 47.015625 60.890625  L 29.5 51.421875  L 47.015625 41.890625  L 44.1875 37.109375  L 27.78125 47.015625  L 27.78125 28.609375  L 22.21875 28.609375  L 22.21875 47.015625  L 5.8125 37.109375  L 2.984375 41.890625  L 20.515625 51.421875  L 2.984375 60.890625  L 5.8125 65.71875  L 22.21875 55.8125  L 22.21875 74.21875  L 27.78125 74.21875  L 27.78125 55.8125  L 44.1875 65.71875  z \" id=\"DejaVuSans-42\"/>\n     </defs>\n     <use xlink:href=\"#DejaVuSans-42\"/>\n    </g>\n   </g>\n   <g id=\"text_4\">\n    <!--   -->\n    <g style=\"fill:#b4b4b4;\" transform=\"translate(44.138081 9.877969)scale(0.13 -0.13)\">\n     <use xlink:href=\"#DejaVuSans-32\"/>\n    </g>\n   </g>\n   <g id=\"text_5\">\n    <!-- x -->\n    <g style=\"fill:#444443;\" transform=\"translate(50.666681 9.877969)scale(0.13 -0.13)\">\n     <defs>\n      <path d=\"M 54.890625 54.6875  L 35.109375 28.078125  L 55.90625 0  L 45.3125 0  L 29.390625 21.484375  L 13.484375 0  L 2.875 0  L 24.125 28.609375  L 4.6875 54.6875  L 15.28125 54.6875  L 29.78125 35.203125  L 44.28125 54.6875  z \" id=\"DejaVuSans-120\"/>\n     </defs>\n     <use xlink:href=\"#DejaVuSans-120\"/>\n    </g>\n   </g>\n   <g id=\"text_6\">\n    <!--   -->\n    <g style=\"fill:#b4b4b4;\" transform=\"translate(57.195281 9.877969)scale(0.13 -0.13)\">\n     <use xlink:href=\"#DejaVuSans-32\"/>\n    </g>\n   </g>\n   <g id=\"text_7\">\n    <!-- + -->\n    <g style=\"fill:#b4b4b4;\" transform=\"translate(63.723881 9.877969)scale(0.13 -0.13)\">\n     <defs>\n      <path d=\"M 46 62.703125  L 46 35.5  L 73.1875 35.5  L 73.1875 27.203125  L 46 27.203125  L 46 0  L 37.796875 0  L 37.796875 27.203125  L 10.59375 27.203125  L 10.59375 35.5  L 37.796875 35.5  L 37.796875 62.703125  z \" id=\"DejaVuSans-43\"/>\n     </defs>\n     <use xlink:href=\"#DejaVuSans-43\"/>\n    </g>\n   </g>\n   <g id=\"text_8\">\n    <!--   -->\n    <g style=\"fill:#b4b4b4;\" transform=\"translate(70.252481 9.877969)scale(0.13 -0.13)\">\n     <use xlink:href=\"#DejaVuSans-32\"/>\n    </g>\n   </g>\n   <g id=\"text_9\">\n    <!-- b -->\n    <g style=\"fill:#b4b4b4;\" transform=\"translate(76.781081 9.877969)scale(0.13 -0.13)\">\n     <defs>\n      <path d=\"M 48.6875 27.296875  Q 48.6875 37.203125 44.609375 42.84375  Q 40.53125 48.484375 33.40625 48.484375  Q 26.265625 48.484375 22.1875 42.84375  Q 18.109375 37.203125 18.109375 27.296875  Q 18.109375 17.390625 22.1875 11.75  Q 26.265625 6.109375 33.40625 6.109375  Q 40.53125 6.109375 44.609375 11.75  Q 48.6875 17.390625 48.6875 27.296875  z M 18.109375 46.390625  Q 20.953125 51.265625 25.265625 53.625  Q 29.59375 56 35.59375 56  Q 45.5625 56 51.78125 48.09375  Q 58.015625 40.1875 58.015625 27.296875  Q 58.015625 14.40625 51.78125 6.484375  Q 45.5625 -1.421875 35.59375 -1.421875  Q 29.59375 -1.421875 25.265625 0.953125  Q 20.953125 3.328125 18.109375 8.203125  L 18.109375 0  L 9.078125 0  L 9.078125 75.984375  L 18.109375 75.984375  z \" id=\"DejaVuSans-98\"/>\n     </defs>\n     <use xlink:href=\"#DejaVuSans-98\"/>\n    </g>\n   </g>\n   <g id=\"text_10\">\n    <!-- 5 -->\n    <g transform=\"translate(6.442031 36.97909)rotate(-90)scale(0.09 -0.09)\">\n     <defs>\n      <path d=\"M 4.15625 18.75  L 13.375 19.53125  Q 14.40625 12.796875 18.140625 9.390625  Q 21.875 6 27.15625 6  Q 33.5 6 37.890625 10.78125  Q 42.28125 15.578125 42.28125 23.484375  Q 42.28125 31 38.0625 35.34375  Q 33.84375 39.703125 27 39.703125  Q 22.75 39.703125 19.328125 37.765625  Q 15.921875 35.84375 13.96875 32.765625  L 5.71875 33.84375  L 12.640625 70.609375  L 48.25 70.609375  L 48.25 62.203125  L 19.671875 62.203125  L 15.828125 42.96875  Q 22.265625 47.46875 29.34375 47.46875  Q 38.71875 47.46875 45.15625 40.96875  Q 51.609375 34.46875 51.609375 24.265625  Q 51.609375 14.546875 45.953125 7.46875  Q 39.0625 -1.21875 27.15625 -1.21875  Q 17.390625 -1.21875 11.203125 4.25  Q 5.03125 9.71875 4.15625 18.75  z \" id=\"ArialMT-53\"/>\n     </defs>\n     <use xlink:href=\"#ArialMT-53\"/>\n    </g>\n   </g>\n   <g id=\"text_11\">\n    <!-- 10 -->\n    <g transform=\"translate(14.650988 21.987458)scale(0.09 -0.09)\">\n     <defs>\n      <path d=\"M 37.25 0  L 28.46875 0  L 28.46875 56  Q 25.296875 52.984375 20.140625 49.953125  Q 14.984375 46.921875 10.890625 45.40625  L 10.890625 53.90625  Q 18.265625 57.375 23.78125 62.296875  Q 29.296875 67.234375 31.59375 71.875  L 37.25 71.875  z \" id=\"ArialMT-49\"/>\n      <path d=\"M 4.15625 35.296875  Q 4.15625 48 6.765625 55.734375  Q 9.375 63.484375 14.515625 67.671875  Q 19.671875 71.875 27.484375 71.875  Q 33.25 71.875 37.59375 69.546875  Q 41.9375 67.234375 44.765625 62.859375  Q 47.609375 58.5 49.21875 52.21875  Q 50.828125 45.953125 50.828125 35.296875  Q 50.828125 22.703125 48.234375 14.96875  Q 45.65625 7.234375 40.5 3  Q 35.359375 -1.21875 27.484375 -1.21875  Q 17.140625 -1.21875 11.234375 6.203125  Q 4.15625 15.140625 4.15625 35.296875  z M 13.1875 35.296875  Q 13.1875 17.671875 17.3125 11.828125  Q 21.4375 6 27.484375 6  Q 33.546875 6 37.671875 11.859375  Q 41.796875 17.71875 41.796875 35.296875  Q 41.796875 52.984375 37.671875 58.78125  Q 33.546875 64.59375 27.390625 64.59375  Q 21.34375 64.59375 17.71875 59.46875  Q 13.1875 52.9375 13.1875 35.296875  z \" id=\"ArialMT-48\"/>\n     </defs>\n     <use xlink:href=\"#ArialMT-49\"/>\n     <use x=\"55.615234\" xlink:href=\"#ArialMT-48\"/>\n    </g>\n   </g>\n   <g id=\"text_12\">\n    <!-- 10 -->\n    <g transform=\"translate(49.530791 39.481512)rotate(-90)scale(0.09 -0.09)\">\n     <use xlink:href=\"#ArialMT-49\"/>\n     <use x=\"55.615234\" xlink:href=\"#ArialMT-48\"/>\n    </g>\n   </g>\n   <g id=\"text_13\">\n    <!-- 1 -->\n    <g transform=\"translate(51.428559 21.987458)scale(0.09 -0.09)\">\n     <use xlink:href=\"#ArialMT-49\"/>\n    </g>\n   </g>\n  </g>\n </g>\n <defs>\n  <clipPath id=\"pa01016bb5e\">\n   <rect height=\"41.491069\" width=\"82.0539\" x=\"1.255781\" y=\"4.931209\"/>\n  </clipPath>\n </defs>\n</svg>"
     },
     "metadata": {}
    },
    {
     "output_type": "stream",
     "name": "stderr",
     "text": [
      "Tensorflow says : Incompatible shapes: [5,10] vs. [10,1] [Op:Mul] name: mul/\n\nTsensor adds : Cause: * on tensor operand W w/shape (5, 10) and operand x w/shape (10, 1)\n"
     ]
    }
   ],
   "source": [
    "try:\n",
    "    with tsensor.clarify():        \n",
    "        y = tf.matmul(W, x) + b\n",
    "        W * x + b \n",
    "except BaseException as e:\n",
    "    msgs = str(e).split('\\n')\n",
    "    sys.stderr.write(\"Tensorflow says : \" + msgs[0] + '\\n\\n')\n",
    "    sys.stderr.write(\"Tsensor adds : \" + msgs[1] + '\\n')"
   ]
  },
  {
   "source": [
    "# Sequential API\n",
    "케라스를 활용해 모델을 구축할 수 있는 가장 간단한 형태의 API다. 모델의 층들이 순차적으로 구성돼 있는 경우 사용에 용이하다"
   ],
   "cell_type": "markdown",
   "metadata": {}
  },
  {
   "cell_type": "code",
   "execution_count": 26,
   "metadata": {},
   "outputs": [],
   "source": [
    "from tensorflow.keras import layers\n",
    "\n",
    "model = tf.keras.Sequential()\n",
    "model.add(layers.Dense(64, activation='relu'))\n",
    "model.add(layers.Dense(64, activation='relu'))\n",
    "model.add(layers.Dense(10, activation='softmax'))"
   ]
  },
  {
   "source": [
    "# Functional API\n",
    "Input 모듈을 선언해야 하는데 세션 기반의 텐서플로 구현에서의 tf.placeholder와 동일한 역할이다.      \n",
    "모델의 입력으로 받는 값의 형태(shape)를 정의하면 된다\n"
   ],
   "cell_type": "markdown",
   "metadata": {}
  },
  {
   "cell_type": "code",
   "execution_count": 28,
   "metadata": {},
   "outputs": [],
   "source": [
    "inputs = tf.keras.Input(shape=(32,))\n",
    "x = layers.Dense(64, activation='relu')(inputs)\n",
    "x = layers.Dense(64, activation='relu')(x)\n",
    "predictions = layers.Dense(10, activation='softmax')(x)"
   ]
  },
  {
   "source": [
    "# Custom Layer\n",
    "여러 레이어를 묶은 사용자 정의 층을 만들어 사용해야 할 필요성이 있을떄 ( 재사용성 )"
   ],
   "cell_type": "markdown",
   "metadata": {}
  },
  {
   "cell_type": "code",
   "execution_count": 30,
   "metadata": {},
   "outputs": [],
   "source": [
    "class CustomLayer(layers.Layer):\n",
    "    def __init__(self, hidden_dimension, hidden_dimension2, output_dimension):\n",
    "        # 하이퍼 파라미터는 객체를 생성할 때 호출 되도록 정의한다.\n",
    "        self.hidden_dimension = hidden_dimension\n",
    "        self.hidden_dimension2 = hidden_dimension2\n",
    "        self.output_dimension = output_dimension\n",
    "        super(CustomLayer, self).__init__()\n",
    "\n",
    "    def build(self, input_shape):\n",
    "        # 가중치와 관련된 값들이 생성 될 수 있도록 정의한다\n",
    "        self.dense_layer1 = layers.Dense(self.hidden_dimension, activation='relu')\n",
    "        self.dense_layer2 = layers.Dense(self.hidden_dimension2, activation='relu')\n",
    "        self.dense_layer3 = layers.Dense(self.output_dimension, activation='softmax')\n",
    "    \n",
    "    def call(self, inputs):\n",
    "        x = self.dense_layer1(inputs)\n",
    "        x = self.dense_layer2(x)\n",
    "\n",
    "        return self.dense_layer3(x)"
   ]
  },
  {
   "cell_type": "code",
   "execution_count": 34,
   "metadata": {},
   "outputs": [],
   "source": [
    "from tensorflow.keras import layers\n",
    "\n",
    "model = tf.keras.Sequential()\n",
    "model.add(CustomLayer(64, 64, 10))"
   ]
  },
  {
   "source": [
    "# Subclassing (Custom Model)\n",
    "자유도가 가장 높은 내부 연산들을 직접 구현한다."
   ],
   "cell_type": "markdown",
   "metadata": {}
  },
  {
   "cell_type": "code",
   "execution_count": 36,
   "metadata": {},
   "outputs": [],
   "source": [
    "class MyModel(tf.keras.Model):\n",
    "    def __init__(self, hidden_dimension, hidden_dimension2, output_dimension):\n",
    "        # 사용될 층과 변수를 정의한다\n",
    "        super(MyModel, self).__init__(name='my model')\n",
    "        self.dense_layer1 = layers.Dense(hidden_dimension, activation='relu')\n",
    "        self.dense_layer2 = layers.Dense(hidden_dimension2, activation='relu')\n",
    "        self.dense_layer3 = layers.Dense(output_dimension, activation='softmax')\n",
    "\n",
    "    def call(self, inputs):\n",
    "        # 정의한 내용을 바탕으로 모델 연산을 진행한다.\n",
    "        x = self.dense_layer1(inputs)\n",
    "        x = self.dense_layer2(x)\n",
    "\n",
    "        return self.dense_layer3(x)"
   ]
  },
  {
   "source": [
    "# 모델 학습\n",
    "크게 두 가지 방법이 있다\n",
    "- keras 모델의 내장 API를 활용하는 방법 ( fit(), evaluate(), predict() )\n",
    "- 학습, 검증, 예측 등 모든 과정을 Gradient Tape 객체를 활용해 직접 구현하는 방법"
   ],
   "cell_type": "markdown",
   "metadata": {}
  }
 ]
}