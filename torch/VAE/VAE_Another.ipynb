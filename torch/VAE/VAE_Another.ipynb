{
 "cells": [
  {
   "cell_type": "code",
   "execution_count": 1,
   "metadata": {},
   "outputs": [],
   "source": [
    "import numpy as np\n",
    "import torch\n",
    "import torch.nn as nn\n",
    "import torch.optim as optim\n",
    "import torch.nn.init as init\n",
    "import torchvision.datasets as dataset\n",
    "import torchvision.transforms as transforms\n",
    "from torch.utils.data import DataLoader\n",
    "from torch.autograd import Variable\n",
    "import matplotlib.pyplot as plt\n",
    "%matplotlib inline"
   ]
  },
  {
   "cell_type": "markdown",
   "metadata": {},
   "source": [
    "### 하이퍼 파라미터 설정"
   ]
  },
  {
   "cell_type": "code",
   "execution_count": 11,
   "metadata": {},
   "outputs": [],
   "source": [
    "batch_size = 128\n",
    "learning_rate = 0.0005\n",
    "num_epoch = 10\n",
    "hidden_size = 50"
   ]
  },
  {
   "cell_type": "markdown",
   "metadata": {},
   "source": [
    "### 데이터 다운로드"
   ]
  },
  {
   "cell_type": "code",
   "execution_count": 12,
   "metadata": {},
   "outputs": [],
   "source": [
    "mnist_train = dataset.MNIST(\"./data_Another\", train=True, transform=transforms.ToTensor(), target_transform=None, download=True)"
   ]
  },
  {
   "cell_type": "code",
   "execution_count": 13,
   "metadata": {},
   "outputs": [],
   "source": [
    "mnist_test = dataset.MNIST(\"./data_Another\", train=False, transform=transforms.ToTensor(), target_transform=None, download=True)"
   ]
  },
  {
   "cell_type": "code",
   "execution_count": 14,
   "metadata": {},
   "outputs": [],
   "source": [
    "train_loader = torch.utils.data.DataLoader(mnist_train, batch_size=batch_size, shuffle=True, num_workers=2, drop_last=True)\n",
    "test_loader = torch.utils.data.DataLoader(mnist_test, batch_size=batch_size, shuffle=True, num_workers=2, drop_last=True)"
   ]
  },
  {
   "cell_type": "markdown",
   "metadata": {},
   "source": [
    "### Model & Optmizer"
   ]
  },
  {
   "cell_type": "code",
   "execution_count": 16,
   "metadata": {},
   "outputs": [],
   "source": [
    "class Encoder(nn.Module):\n",
    "    def __init__(self):\n",
    "        super(Encoder, self).__init__()\n",
    "        self.fc1_1 = nn.Linear(784, hidden_size)\n",
    "        self.fc1_2 = nn.Linear(784, hidden_size)\n",
    "        self.relu = nn.ReLU()\n",
    "    \n",
    "    def encode(self, x):\n",
    "        x = x.view(batch_size, -1)\n",
    "        mu = self.relu(self.fc1_1(x))\n",
    "        log_var = self.relu(self.fc1_2(x))\n",
    "        return mu, log_var\n",
    "    \n",
    "    def reparameterize(self, mu, logvar):\n",
    "        std = logvar.mul(0.5).exp_()\n",
    "        \n",
    "        eps = torch.FloatTensor(std.size()).normal_()        \n",
    "        return eps.mul(std).add_(mu)\n",
    "    \n",
    "    def forward(self, x):\n",
    "        mu, logvar = self.encode(x)\n",
    "        reparam = self.reparameterize(mu, logvar)\n",
    "        \n",
    "        return mu, logvar, reparam\n",
    "    \n",
    "encoder = Encoder()"
   ]
  },
  {
   "cell_type": "code",
   "execution_count": 17,
   "metadata": {},
   "outputs": [],
   "source": [
    "class Decoder(nn.Module):\n",
    "    def __init__(self):\n",
    "        super(Decoder, self).__init__()\n",
    "        self.fc1 = nn.Linear(hidden_size, 784)\n",
    "        self.sigmoid = nn.Sigmoid()\n",
    "        \n",
    "    def forward(self, x):\n",
    "        out = self.fc1(x)\n",
    "        out = self.sigmoid(out)\n",
    "        out = out.view(batch_size, 28, 28, 1)\n",
    "        \n",
    "        return out\n",
    "\n",
    "decoder = Decoder()"
   ]
  },
  {
   "cell_type": "code",
   "execution_count": 18,
   "metadata": {},
   "outputs": [
    {
     "name": "stderr",
     "output_type": "stream",
     "text": [
      "/Users/amore/opt/anaconda3/envs/Pytorch/lib/python3.7/site-packages/torch/nn/_reduction.py:43: UserWarning: size_average and reduce args will be deprecated, please use reduction='sum' instead.\n",
      "  warnings.warn(warning.format(ret))\n"
     ]
    }
   ],
   "source": [
    "reconstruction_function = nn.BCELoss(size_average=False)\n",
    "\n",
    "def loss_function(recon_x, x, mu, logvar):\n",
    "    BCE = reconstruction_function(recon_x, x)\n",
    "    \n",
    "    # 0.5 * sum( 1 + log(sigma^2) - mu^2 - sigma^2)\n",
    "    KLD_element = mu.pow(2).add_(logvar.exp()).mul_(-1).add_(1).add_(logvar)\n",
    "    KLD = torch.sum(KLD_element).mul_(-0.5)\n",
    "    \n",
    "    return BCE + KLD\n",
    "\n",
    "parameters = list(encoder.parameters()) + list(decoder.parameters())\n",
    "optimizer = torch.optim.Adam(parameters, lr=learning_rate)"
   ]
  },
  {
   "cell_type": "code",
   "execution_count": 20,
   "metadata": {},
   "outputs": [
    {
     "name": "stdout",
     "output_type": "stream",
     "text": [
      "\n",
      "----------model not restored----------\n",
      "\n"
     ]
    },
    {
     "name": "stderr",
     "output_type": "stream",
     "text": [
      "/Users/amore/opt/anaconda3/envs/Pytorch/lib/python3.7/site-packages/torch/nn/modules/loss.py:498: UserWarning: Using a target size (torch.Size([128, 1, 28, 28])) that is different to the input size (torch.Size([128, 28, 28, 1])) is deprecated. Please ensure they have the same size.\n",
      "  return F.binary_cross_entropy(input, target, weight=self.weight, reduction=self.reduction)\n",
      "/Users/amore/opt/anaconda3/envs/Pytorch/lib/python3.7/site-packages/torch/serialization.py:292: UserWarning: Couldn't retrieve source code for container of type Encoder. It won't be checked for correctness upon loading.\n",
      "  \"type \" + obj.__name__ + \". It won't be checked \"\n",
      "/Users/amore/opt/anaconda3/envs/Pytorch/lib/python3.7/site-packages/torch/serialization.py:292: UserWarning: Couldn't retrieve source code for container of type Linear. It won't be checked for correctness upon loading.\n",
      "  \"type \" + obj.__name__ + \". It won't be checked \"\n",
      "/Users/amore/opt/anaconda3/envs/Pytorch/lib/python3.7/site-packages/torch/serialization.py:292: UserWarning: Couldn't retrieve source code for container of type ReLU. It won't be checked for correctness upon loading.\n",
      "  \"type \" + obj.__name__ + \". It won't be checked \"\n",
      "/Users/amore/opt/anaconda3/envs/Pytorch/lib/python3.7/site-packages/torch/serialization.py:292: UserWarning: Couldn't retrieve source code for container of type Decoder. It won't be checked for correctness upon loading.\n",
      "  \"type \" + obj.__name__ + \". It won't be checked \"\n",
      "/Users/amore/opt/anaconda3/envs/Pytorch/lib/python3.7/site-packages/torch/serialization.py:292: UserWarning: Couldn't retrieve source code for container of type Sigmoid. It won't be checked for correctness upon loading.\n",
      "  \"type \" + obj.__name__ + \". It won't be checked \"\n"
     ]
    },
    {
     "name": "stdout",
     "output_type": "stream",
     "text": [
      "tensor(74267.1719, grad_fn=<AddBackward0>)\n",
      "tensor(38752.3320, grad_fn=<AddBackward0>)\n",
      "tensor(32138.0879, grad_fn=<AddBackward0>)\n",
      "tensor(28929.8555, grad_fn=<AddBackward0>)\n",
      "tensor(27655.9375, grad_fn=<AddBackward0>)\n",
      "tensor(26998.3340, grad_fn=<AddBackward0>)\n",
      "tensor(26236.7715, grad_fn=<AddBackward0>)\n",
      "tensor(25022.4141, grad_fn=<AddBackward0>)\n",
      "tensor(24559.4023, grad_fn=<AddBackward0>)\n",
      "tensor(24571.4961, grad_fn=<AddBackward0>)\n",
      "tensor(24305.0312, grad_fn=<AddBackward0>)\n",
      "tensor(24550.9512, grad_fn=<AddBackward0>)\n",
      "tensor(22873.1230, grad_fn=<AddBackward0>)\n",
      "tensor(23345.4180, grad_fn=<AddBackward0>)\n",
      "tensor(23479.0547, grad_fn=<AddBackward0>)\n",
      "tensor(23204.0332, grad_fn=<AddBackward0>)\n",
      "tensor(22802.8809, grad_fn=<AddBackward0>)\n",
      "tensor(22446.5938, grad_fn=<AddBackward0>)\n",
      "tensor(22835.7227, grad_fn=<AddBackward0>)\n",
      "tensor(22400.7188, grad_fn=<AddBackward0>)\n",
      "tensor(22298.2695, grad_fn=<AddBackward0>)\n",
      "tensor(22047.1289, grad_fn=<AddBackward0>)\n",
      "tensor(21748.9707, grad_fn=<AddBackward0>)\n",
      "tensor(22770.3477, grad_fn=<AddBackward0>)\n",
      "tensor(22292.2109, grad_fn=<AddBackward0>)\n",
      "tensor(22207.6035, grad_fn=<AddBackward0>)\n",
      "tensor(22767.1309, grad_fn=<AddBackward0>)\n",
      "tensor(22311.0352, grad_fn=<AddBackward0>)\n",
      "tensor(21489.9746, grad_fn=<AddBackward0>)\n",
      "tensor(21529.7539, grad_fn=<AddBackward0>)\n",
      "tensor(21606.0742, grad_fn=<AddBackward0>)\n",
      "tensor(20803.0703, grad_fn=<AddBackward0>)\n",
      "tensor(21691.5469, grad_fn=<AddBackward0>)\n",
      "tensor(21543.5391, grad_fn=<AddBackward0>)\n",
      "tensor(23013.6641, grad_fn=<AddBackward0>)\n",
      "tensor(22182.6816, grad_fn=<AddBackward0>)\n",
      "tensor(21722.7148, grad_fn=<AddBackward0>)\n",
      "tensor(21081.5566, grad_fn=<AddBackward0>)\n",
      "tensor(22276.8789, grad_fn=<AddBackward0>)\n",
      "tensor(22006.2852, grad_fn=<AddBackward0>)\n",
      "tensor(21285.1289, grad_fn=<AddBackward0>)\n",
      "tensor(21679.5488, grad_fn=<AddBackward0>)\n",
      "tensor(21456.7344, grad_fn=<AddBackward0>)\n",
      "tensor(21712.2910, grad_fn=<AddBackward0>)\n",
      "tensor(21179.1875, grad_fn=<AddBackward0>)\n",
      "tensor(22149.2422, grad_fn=<AddBackward0>)\n",
      "tensor(21615.8711, grad_fn=<AddBackward0>)\n",
      "tensor(20860.0684, grad_fn=<AddBackward0>)\n",
      "tensor(21810.0742, grad_fn=<AddBackward0>)\n",
      "tensor(22009.9453, grad_fn=<AddBackward0>)\n"
     ]
    }
   ],
   "source": [
    "try:\n",
    "    encoder, decoder = torch.load('./model_Another/variational_autoencoder.pkl')\n",
    "    print(\"\\n----------model restored----------\\n\")\n",
    "except:\n",
    "    print(\"\\n----------model not restored----------\\n\")\n",
    "    pass\n",
    "\n",
    "for i in range(num_epoch):\n",
    "    for j,[image, label] in enumerate(train_loader):\n",
    "        optimizer.zero_grad()\n",
    "        \n",
    "        mu, log_var, reparam = encoder(image)\n",
    "        output = decoder(reparam)\n",
    "        \n",
    "        loss = loss_function(output, image, mu, log_var)\n",
    "        \n",
    "        loss.backward()\n",
    "        optimizer.step()\n",
    "        \n",
    "        if j % 100 == 0:\n",
    "            torch.save([encoder, decoder], \"./model_Another/variational_autoencoder.pkl\")\n",
    "            print(loss)"
   ]
  },
  {
   "cell_type": "code",
   "execution_count": 21,
   "metadata": {},
   "outputs": [
    {
     "name": "stdout",
     "output_type": "stream",
     "text": [
      "torch.Size([128, 28, 28])\n"
     ]
    },
    {
     "data": {
      "image/png": "[encoded data removed]",
      "text/plain": [
       "<Figure size 432x288 with 1 Axes>"
      ]
     },
     "metadata": {
      "needs_background": "light"
     },
     "output_type": "display_data"
    }
   ],
   "source": [
    "out_img = torch.squeeze(output.cpu().data)\n",
    "print(out_img.size())\n",
    "\n",
    "plt.imshow(out_img[0].numpy(), cmap='gray')\n",
    "plt.show()"
   ]
  },
  {
   "cell_type": "code",
   "execution_count": 24,
   "metadata": {},
   "outputs": [
    {
     "name": "stderr",
     "output_type": "stream",
     "text": [
      "/Users/amore/opt/anaconda3/envs/Pytorch/lib/python3.7/site-packages/ipykernel_launcher.py:4: UserWarning: volatile was removed and now has no effect. Use `with torch.no_grad():` instead.\n",
      "  after removing the cwd from sys.path.\n"
     ]
    },
    {
     "name": "stdout",
     "output_type": "stream",
     "text": [
      "torch.Size([128, 28, 28])\n"
     ]
    },
    {
     "data": {
      "image/png": "[encoded data removed]",
      "text/plain": [
       "<Figure size 432x288 with 1 Axes>"
      ]
     },
     "metadata": {
      "needs_background": "light"
     },
     "output_type": "display_data"
    },
    {
     "data": {
      "image/png": "[encoded data removed]",
      "text/plain": [
       "<Figure size 432x288 with 1 Axes>"
      ]
     },
     "metadata": {
      "needs_background": "light"
     },
     "output_type": "display_data"
    }
   ],
   "source": [
    "for i in range(1):\n",
    "    for j,[image,label] in enumerate(test_loader):\n",
    "       \n",
    "        image = Variable(image,volatile=True)\n",
    "        output,mean,var = encoder(image)\n",
    "        output = decoder(output)\n",
    "        \n",
    "    if j % 10 == 0:\n",
    "        print(loss)\n",
    "\n",
    "out_img = torch.squeeze(output.cpu().data)\n",
    "print(out_img.size())\n",
    "\n",
    "for i in range(1):\n",
    "    plt.imshow(torch.squeeze(image[i].cpu()).data.numpy(),cmap='gray')\n",
    "    plt.show()\n",
    "    plt.imshow(out_img[i].numpy(),cmap='gray')\n",
    "    plt.show()"
   ]
  },
  {
   "cell_type": "code",
   "execution_count": null,
   "metadata": {},
   "outputs": [],
   "source": []
  }
 ],
 "metadata": {
  "kernelspec": {
   "display_name": "Python 3",
   "language": "python",
   "name": "python3"
  },
  "language_info": {
   "codemirror_mode": {
    "name": "ipython",
    "version": 3
   },
   "file_extension": ".py",
   "mimetype": "text/x-python",
   "name": "python",
   "nbconvert_exporter": "python",
   "pygments_lexer": "ipython3",
   "version": "3.7.5"
  }
 },
 "nbformat": 4,
 "nbformat_minor": 4
}
