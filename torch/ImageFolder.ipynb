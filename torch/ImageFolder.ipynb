{
  "nbformat": 4,
  "nbformat_minor": 0,
  "metadata": {
    "colab": {
      "name": "ImageFolder.ipynb",
      "provenance": [],
      "mount_file_id": "1rqNl1Inb-CrvPRzqD30D2nuN4oEtdoNM",
      "authorship_tag": "ABX9TyO0785hOy0r8xAyV4YR5yZr",
      "include_colab_link": true
    },
    "kernelspec": {
      "name": "python3",
      "display_name": "Python 3"
    },
    "accelerator": "GPU"
  },
  "cells": [
    {
      "cell_type": "markdown",
      "metadata": {
        "id": "view-in-github",
        "colab_type": "text"
      },
      "source": [
        "<a href=\"https://colab.research.google.com/github/pko89403/DeepLearningSelfStudy/blob/master/ImageFolder.ipynb\" target=\"_parent\"><img src=\"https://colab.research.google.com/assets/colab-badge.svg\" alt=\"Open In Colab\"/></a>"
      ]
    },
    {
      "cell_type": "code",
      "metadata": {
        "id": "7SYqTKg2Ubzz",
        "colab_type": "code",
        "colab": {}
      },
      "source": [
        "import torchvision\n",
        "from torchvision import transforms\n",
        "from torch.utils.data import DataLoader "
      ],
      "execution_count": 0,
      "outputs": []
    },
    {
      "cell_type": "code",
      "metadata": {
        "id": "ksj8lfZ8Ulmv",
        "colab_type": "code",
        "colab": {}
      },
      "source": [
        "from matplotlib.pyplot import imshow\n",
        "%matplotlib inline "
      ],
      "execution_count": 0,
      "outputs": []
    },
    {
      "cell_type": "code",
      "metadata": {
        "id": "HfoCxAHJViNL",
        "colab_type": "code",
        "colab": {}
      },
      "source": [
        "trans = transforms.Compose([\n",
        "  transforms.Resize((64,128)),\n",
        "  transforms.ToTensor()\n",
        "])"
      ],
      "execution_count": 0,
      "outputs": []
    },
    {
      "cell_type": "code",
      "metadata": {
        "id": "uO6lv5hOUqdr",
        "colab_type": "code",
        "colab": {}
      },
      "source": [
        "train_data = torchvision.datasets.ImageFolder(root='/content/drive/My Drive/data/origin_data', transform=trans)"
      ],
      "execution_count": 0,
      "outputs": []
    },
    {
      "cell_type": "code",
      "metadata": {
        "id": "KhC2gPoZU2qo",
        "colab_type": "code",
        "colab": {
          "base_uri": "https://localhost:8080/",
          "height": 425
        },
        "outputId": "03919782-10e2-481a-d765-e8829b61946d"
      },
      "source": [
        "for num, value in enumerate(train_data):\n",
        "  data, label = value\n",
        "  print(num, data, label)\n",
        "  break"
      ],
      "execution_count": 57,
      "outputs": [
        {
          "output_type": "stream",
          "text": [
            "0 tensor([[[0.7373, 0.7333, 0.7294,  ..., 0.4980, 0.5059, 0.5059],\n",
            "         [0.7373, 0.7333, 0.7294,  ..., 0.4941, 0.4980, 0.4863],\n",
            "         [0.7373, 0.7294, 0.7294,  ..., 0.4980, 0.4941, 0.4549],\n",
            "         ...,\n",
            "         [0.7647, 0.7490, 0.7490,  ..., 0.4510, 0.4471, 0.4471],\n",
            "         [0.8392, 0.7686, 0.7529,  ..., 0.4314, 0.4275, 0.4510],\n",
            "         [0.8941, 0.8000, 0.7529,  ..., 0.4314, 0.4314, 0.4353]],\n",
            "\n",
            "        [[0.7451, 0.7412, 0.7373,  ..., 0.5176, 0.5294, 0.5255],\n",
            "         [0.7451, 0.7412, 0.7373,  ..., 0.5137, 0.5137, 0.5020],\n",
            "         [0.7451, 0.7373, 0.7373,  ..., 0.5059, 0.5020, 0.4627],\n",
            "         ...,\n",
            "         [0.8941, 0.8784, 0.8863,  ..., 0.4353, 0.4314, 0.4314],\n",
            "         [0.9451, 0.8863, 0.8824,  ..., 0.4157, 0.4118, 0.4353],\n",
            "         [0.9843, 0.9098, 0.8824,  ..., 0.4157, 0.4157, 0.4196]],\n",
            "\n",
            "        [[0.7412, 0.7373, 0.7333,  ..., 0.5020, 0.5137, 0.5098],\n",
            "         [0.7412, 0.7373, 0.7333,  ..., 0.4941, 0.4980, 0.4863],\n",
            "         [0.7412, 0.7333, 0.7333,  ..., 0.4824, 0.4784, 0.4392],\n",
            "         ...,\n",
            "         [0.9294, 0.9137, 0.9098,  ..., 0.3882, 0.3843, 0.3843],\n",
            "         [0.9647, 0.9098, 0.9098,  ..., 0.3686, 0.3647, 0.3882],\n",
            "         [0.9922, 0.9255, 0.9059,  ..., 0.3686, 0.3686, 0.3725]]]) 0\n"
          ],
          "name": "stdout"
        }
      ]
    },
    {
      "cell_type": "code",
      "metadata": {
        "id": "3Assc6upVExo",
        "colab_type": "code",
        "colab": {}
      },
      "source": [
        "import torch\n",
        "import torch.nn as nn \n",
        "import torch.nn.functional as F\n",
        "\n",
        "import torch.optim as optim"
      ],
      "execution_count": 0,
      "outputs": []
    },
    {
      "cell_type": "code",
      "metadata": {
        "id": "O1_5ApSEXSpH",
        "colab_type": "code",
        "colab": {}
      },
      "source": [
        "device = 'cuda'\n",
        "\n",
        "torch.cuda.manual_seed_all(777)"
      ],
      "execution_count": 0,
      "outputs": []
    },
    {
      "cell_type": "code",
      "metadata": {
        "id": "aZcPmxZcXkXN",
        "colab_type": "code",
        "colab": {}
      },
      "source": [
        "data_loader = DataLoader(dataset = train_data, batch_size = 8, shuffle=True)"
      ],
      "execution_count": 0,
      "outputs": []
    },
    {
      "cell_type": "code",
      "metadata": {
        "id": "CyEhutphXyLL",
        "colab_type": "code",
        "colab": {}
      },
      "source": [
        "class CNN(nn.Module):\n",
        "  def __init__(self):\n",
        "    super(CNN, self).__init__()\n",
        "    self.layer1 = nn.Sequential(\n",
        "        nn.Conv2d(3,6,5),\n",
        "        nn.ReLU(),\n",
        "        nn.MaxPool2d(2),\n",
        "    )\n",
        "    self.layer2 = nn.Sequential(\n",
        "        nn.Conv2d(6,16,5),\n",
        "        nn.ReLU(),\n",
        "        nn.MaxPool2d(2),\n",
        "    )\n",
        "    self.layer3 = nn.Sequential(\n",
        "        nn.Linear(16*13*29, 120),\n",
        "        nn.ReLU(),\n",
        "        nn.Linear(120,2)\n",
        "    )\n",
        "\n",
        "  def forward(self, x):\n",
        "    out = self.layer1(x)\n",
        "    out = self.layer2(out)\n",
        "    out = out.view(out.shape[0], -1)\n",
        "    out = self.layer3(out)\n",
        "    return out"
      ],
      "execution_count": 0,
      "outputs": []
    },
    {
      "cell_type": "code",
      "metadata": {
        "id": "alqUhGPqY271",
        "colab_type": "code",
        "colab": {}
      },
      "source": [
        "net = CNN().to(device)\n",
        "test_input = (torch.Tensor(3,3,64,128).to(device))\n",
        "test_out = net(test_input)"
      ],
      "execution_count": 0,
      "outputs": []
    },
    {
      "cell_type": "code",
      "metadata": {
        "id": "iFNDoN0oZKvC",
        "colab_type": "code",
        "colab": {}
      },
      "source": [
        "optimizer = optim.Adam(net.parameters(), lr=0.00001)\n",
        "loss_func = nn.CrossEntropyLoss().to(device)"
      ],
      "execution_count": 0,
      "outputs": []
    },
    {
      "cell_type": "code",
      "metadata": {
        "id": "2QghPnOKZi_G",
        "colab_type": "code",
        "colab": {
          "base_uri": "https://localhost:8080/",
          "height": 87
        },
        "outputId": "c8919855-1fdc-432f-cd8a-8e6bdcd12a9e"
      },
      "source": [
        "total_batch = len(data_loader)\n",
        "\n",
        "epochs = 3\n",
        "for epoch in range(epochs):\n",
        "  avg_cost = 0.0\n",
        "  for num, data in enumerate(data_loader):\n",
        "    imgs, labels = data\n",
        "    imgs = imgs.to(device)\n",
        "    labels = labels.to(device)\n",
        "    optimizer.zero_grad()\n",
        "    out = net(imgs)\n",
        "    loss = loss_func(out, labels)\n",
        "    loss.backward()\n",
        "    optimizer.step()\n",
        "    avg_cost += loss / total_batch\n",
        "  \n",
        "  print('[Epoch:{}] cost = {}'.format(epoch+1, avg_cost))\n",
        "print('Learning Finished!')"
      ],
      "execution_count": 64,
      "outputs": [
        {
          "output_type": "stream",
          "text": [
            "[Epoch:1] cost = 0.6840996146202087\n",
            "[Epoch:2] cost = 0.6694982051849365\n",
            "[Epoch:3] cost = 0.6515416502952576\n",
            "Learning Finished!\n"
          ],
          "name": "stdout"
        }
      ]
    },
    {
      "cell_type": "code",
      "metadata": {
        "id": "Q2Iq9q0scCO9",
        "colab_type": "code",
        "colab": {}
      },
      "source": [
        "torch.save(net.state_dict(), './model.pth')"
      ],
      "execution_count": 0,
      "outputs": []
    },
    {
      "cell_type": "code",
      "metadata": {
        "id": "ZlOehV5hdFHZ",
        "colab_type": "code",
        "colab": {
          "base_uri": "https://localhost:8080/",
          "height": 34
        },
        "outputId": "11020d5b-eb85-4df3-cb26-2c2bf762a2bf"
      },
      "source": [
        "new_net = CNN().to(device)\n",
        "new_net.load_state_dict(torch.load('./model.pth'))"
      ],
      "execution_count": 68,
      "outputs": [
        {
          "output_type": "execute_result",
          "data": {
            "text/plain": [
              "<All keys matched successfully>"
            ]
          },
          "metadata": {
            "tags": []
          },
          "execution_count": 68
        }
      ]
    },
    {
      "cell_type": "code",
      "metadata": {
        "id": "voLDHphfdTTN",
        "colab_type": "code",
        "colab": {
          "base_uri": "https://localhost:8080/",
          "height": 1000
        },
        "outputId": "ae5aabb2-5828-4181-abee-06be5322d740"
      },
      "source": [
        "with torch.no_grad():\n",
        "  for num, data in enumerate(data_loader):\n",
        "    imgs, label = data\n",
        "    imgs = imgs.to(device)\n",
        "    label = label.to(device)\n",
        "\n",
        "    prediction = net(imgs)\n",
        "\n",
        "    correct_prediction = torch.argmax(prediction, 1) == label\n",
        "\n",
        "    accuracy = correct_prediction.float().mean()\n",
        "    print('Accuracy : ', accuracy.item())\n"
      ],
      "execution_count": 72,
      "outputs": [
        {
          "output_type": "stream",
          "text": [
            "Accuracy :  0.375\n",
            "Accuracy :  0.25\n",
            "Accuracy :  0.625\n",
            "Accuracy :  0.5\n",
            "Accuracy :  0.625\n",
            "Accuracy :  0.75\n",
            "Accuracy :  0.25\n",
            "Accuracy :  0.625\n",
            "Accuracy :  0.625\n",
            "Accuracy :  0.75\n",
            "Accuracy :  0.75\n",
            "Accuracy :  0.625\n",
            "Accuracy :  0.5\n",
            "Accuracy :  0.5\n",
            "Accuracy :  0.375\n",
            "Accuracy :  0.5\n",
            "Accuracy :  0.75\n",
            "Accuracy :  0.625\n",
            "Accuracy :  0.5\n",
            "Accuracy :  0.625\n",
            "Accuracy :  0.75\n",
            "Accuracy :  0.375\n",
            "Accuracy :  0.5\n",
            "Accuracy :  0.75\n",
            "Accuracy :  0.75\n",
            "Accuracy :  0.75\n",
            "Accuracy :  0.625\n",
            "Accuracy :  0.5\n",
            "Accuracy :  0.625\n",
            "Accuracy :  0.375\n",
            "Accuracy :  0.75\n",
            "Accuracy :  0.75\n",
            "Accuracy :  0.5\n",
            "Accuracy :  0.5\n",
            "Accuracy :  0.625\n",
            "Accuracy :  0.625\n",
            "Accuracy :  0.625\n",
            "Accuracy :  0.625\n",
            "Accuracy :  0.5\n",
            "Accuracy :  0.75\n",
            "Accuracy :  0.5\n",
            "Accuracy :  0.5\n",
            "Accuracy :  0.625\n",
            "Accuracy :  0.5\n",
            "Accuracy :  0.625\n",
            "Accuracy :  0.5\n",
            "Accuracy :  0.75\n",
            "Accuracy :  0.875\n",
            "Accuracy :  0.625\n",
            "Accuracy :  0.625\n",
            "Accuracy :  0.75\n",
            "Accuracy :  0.625\n",
            "Accuracy :  0.625\n",
            "Accuracy :  0.375\n",
            "Accuracy :  0.5\n",
            "Accuracy :  0.625\n",
            "Accuracy :  0.75\n",
            "Accuracy :  0.625\n",
            "Accuracy :  0.625\n",
            "Accuracy :  0.875\n",
            "Accuracy :  0.25\n",
            "Accuracy :  0.375\n",
            "Accuracy :  0.625\n",
            "Accuracy :  0.75\n",
            "Accuracy :  0.75\n",
            "Accuracy :  0.75\n",
            "Accuracy :  0.25\n",
            "Accuracy :  0.75\n",
            "Accuracy :  0.7142857313156128\n"
          ],
          "name": "stdout"
        }
      ]
    },
    {
      "cell_type": "code",
      "metadata": {
        "id": "go8suYZweAX_",
        "colab_type": "code",
        "colab": {}
      },
      "source": [
        " "
      ],
      "execution_count": 0,
      "outputs": []
    }
  ]
}