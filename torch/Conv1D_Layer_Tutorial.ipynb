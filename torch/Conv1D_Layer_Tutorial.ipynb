{
  "nbformat": 4,
  "nbformat_minor": 0,
  "metadata": {
    "colab": {
      "name": "Conv1D_Layer_Tutorial",
      "provenance": [],
      "collapsed_sections": [],
      "authorship_tag": "ABX9TyPsQXR71nx9l2YJwZncJrGe",
      "include_colab_link": true
    },
    "kernelspec": {
      "name": "python3",
      "display_name": "Python 3"
    }
  },
  "cells": [
    {
      "cell_type": "markdown",
      "metadata": {
        "id": "view-in-github",
        "colab_type": "text"
      },
      "source": [
        "<a href=\"https://colab.research.google.com/github/pko89403/DeepLearningSelfStudy/blob/master/Conv1D_Layer_Tutorial.ipynb\" target=\"_parent\"><img src=\"https://colab.research.google.com/assets/colab-badge.svg\" alt=\"Open In Colab\"/></a>"
      ]
    },
    {
      "cell_type": "code",
      "metadata": {
        "id": "RDX2J5lTBE_U",
        "colab_type": "code",
        "colab": {}
      },
      "source": [
        "import torch\n",
        "from torch import nn"
      ],
      "execution_count": 0,
      "outputs": []
    },
    {
      "cell_type": "markdown",
      "metadata": {
        "id": "90pLMuUuCppT",
        "colab_type": "text"
      },
      "source": [
        "Conv1D 입력 채널 1, 출력 채널 1"
      ]
    },
    {
      "cell_type": "code",
      "metadata": {
        "id": "lo7Ceix3CXXS",
        "colab_type": "code",
        "outputId": "0f136bfd-ed8e-4bdd-ecb4-154d8090d302",
        "colab": {
          "base_uri": "https://localhost:8080/",
          "height": 70
        }
      },
      "source": [
        "input_data = torch.randn(1, 1, 1)\n",
        "conv_1D = nn.Conv1d(in_channels=1,\n",
        "                    out_channels=1,\n",
        "                    kernel_size=1,\n",
        "                    stride=1)\n",
        "print(conv_1D, conv_1D.weight, conv_1D.bias)"
      ],
      "execution_count": 0,
      "outputs": [
        {
          "output_type": "stream",
          "text": [
            "Conv1d(1, 1, kernel_size=(1,), stride=(1,)) Parameter containing:\n",
            "tensor([[[0.0983]]], requires_grad=True) Parameter containing:\n",
            "tensor([0.3718], requires_grad=True)\n"
          ],
          "name": "stdout"
        }
      ]
    },
    {
      "cell_type": "markdown",
      "metadata": {
        "id": "M_F5Nx9yCys3",
        "colab_type": "text"
      },
      "source": [
        "Conv1D 입력 채널 3, 출력 채널 2"
      ]
    },
    {
      "cell_type": "code",
      "metadata": {
        "id": "vetpqPA4BSna",
        "colab_type": "code",
        "outputId": "68a76202-964d-4071-9009-0849998f07ea",
        "colab": {
          "base_uri": "https://localhost:8080/",
          "height": 176
        }
      },
      "source": [
        "conv_1D = nn.Conv1d(in_channels=3,\n",
        "                    out_channels=2,\n",
        "                    kernel_size=1,\n",
        "                    stride=1)\n",
        "print(conv_1D, conv_1D.weight, conv_1D.bias)"
      ],
      "execution_count": 0,
      "outputs": [
        {
          "output_type": "stream",
          "text": [
            "Conv1d(3, 2, kernel_size=(1,), stride=(1,)) Parameter containing:\n",
            "tensor([[[-0.5065],\n",
            "         [ 0.3666],\n",
            "         [-0.4514]],\n",
            "\n",
            "        [[-0.4296],\n",
            "         [-0.3291],\n",
            "         [-0.3929]]], requires_grad=True) Parameter containing:\n",
            "tensor([ 0.4929, -0.3040], requires_grad=True)\n"
          ],
          "name": "stdout"
        }
      ]
    },
    {
      "cell_type": "markdown",
      "metadata": {
        "id": "On-BOY97Cw4N",
        "colab_type": "text"
      },
      "source": [
        "Conv1D 입력 채널 2, 출력 채널 3"
      ]
    },
    {
      "cell_type": "code",
      "metadata": {
        "id": "ZSCvd67DBbHy",
        "colab_type": "code",
        "outputId": "3ee528bd-7a09-46eb-94c3-4bfec0356d8f",
        "colab": {
          "base_uri": "https://localhost:8080/",
          "height": 194
        }
      },
      "source": [
        "conv_1D = nn.Conv1d(in_channels=2,\n",
        "                    out_channels=3,\n",
        "                    kernel_size=1,\n",
        "                    stride=1)\n",
        "print(conv_1D, conv_1D.weight, conv_1D.bias)"
      ],
      "execution_count": 0,
      "outputs": [
        {
          "output_type": "stream",
          "text": [
            "Conv1d(2, 3, kernel_size=(1,), stride=(1,)) Parameter containing:\n",
            "tensor([[[-0.4058],\n",
            "         [-0.3017]],\n",
            "\n",
            "        [[ 0.6924],\n",
            "         [ 0.0805]],\n",
            "\n",
            "        [[ 0.0910],\n",
            "         [-0.0240]]], requires_grad=True) Parameter containing:\n",
            "tensor([-0.6016, -0.1853,  0.5337], requires_grad=True)\n"
          ],
          "name": "stdout"
        }
      ]
    },
    {
      "cell_type": "markdown",
      "metadata": {
        "id": "H6oKRXv7EpJm",
        "colab_type": "text"
      },
      "source": [
        "Conv1D 입력 채널 1, 출력 채널 1, 커널 크기 1, 스트라이드 1일때 계산해보기"
      ]
    },
    {
      "cell_type": "code",
      "metadata": {
        "id": "-4ywt9h6C7y1",
        "colab_type": "code",
        "outputId": "44e104e6-bcbe-4eaf-b9d4-ee8efa3136e4",
        "colab": {
          "base_uri": "https://localhost:8080/",
          "height": 87
        }
      },
      "source": [
        "input_data = torch.randn(1, 1, 1)\n",
        "conv_1D = nn.Conv1d(in_channels=1,\n",
        "                    out_channels=1,\n",
        "                    kernel_size=1,\n",
        "                    stride=1)\n",
        "print(conv_1D, conv_1D.weight, conv_1D.bias)\n",
        "out = conv_1D(input_data)\n",
        "print(f\"Conv1D 출력 값은 : {out}\")"
      ],
      "execution_count": 0,
      "outputs": [
        {
          "output_type": "stream",
          "text": [
            "Conv1d(1, 1, kernel_size=(1,), stride=(1,)) Parameter containing:\n",
            "tensor([[[0.9593]]], requires_grad=True) Parameter containing:\n",
            "tensor([-0.0365], requires_grad=True)\n",
            "Conv1D 출력 값은 : tensor([[[0.3853]]], grad_fn=<SqueezeBackward1>)\n"
          ],
          "name": "stdout"
        }
      ]
    },
    {
      "cell_type": "code",
      "metadata": {
        "id": "NJsx1BzpIO79",
        "colab_type": "code",
        "outputId": "82228fa3-cfc6-457c-a508-44849374a585",
        "colab": {
          "base_uri": "https://localhost:8080/",
          "height": 34
        }
      },
      "source": [
        "input_data_val = input_data\n",
        "conv_1d_w = conv_1D.weight.data\n",
        "conv_1d_b = conv_1D.bias.data\n",
        "print(f\"입력 데이터 : {input_data_val},\\t Conv1D의 Weight : {conv_1d_w},\\t Conv1D의 가중치 : {conv_1d_b}\")"
      ],
      "execution_count": 0,
      "outputs": [
        {
          "output_type": "stream",
          "text": [
            "입력 데이터 : tensor([[[0.4397]]]),\t Conv1D의 Weight : tensor([[[0.9593]]]),\t Conv1D의 가중치 : tensor([-0.0365])\n"
          ],
          "name": "stdout"
        }
      ]
    },
    {
      "cell_type": "code",
      "metadata": {
        "id": "-iB4ygBWKQHk",
        "colab_type": "code",
        "outputId": "f2a0f99d-f809-4f2d-beb2-73b2ab9f1be4",
        "colab": {
          "base_uri": "https://localhost:8080/",
          "height": 34
        }
      },
      "source": [
        "y = conv_1d_w * input_data + conv_1d_b # y = weight x + bias\n",
        "print(f\"Conv1D 재현 값 : {y}\")"
      ],
      "execution_count": 0,
      "outputs": [
        {
          "output_type": "stream",
          "text": [
            "Conv1D 재현 값 : tensor([[[0.3853]]])\n"
          ],
          "name": "stdout"
        }
      ]
    },
    {
      "cell_type": "markdown",
      "metadata": {
        "id": "zUJe397AE4Fx",
        "colab_type": "text"
      },
      "source": [
        "Conv1D 입력 채널 1, 출력 채널 1, 커널 크기 2, 스트라이드 1일때 계산해보기"
      ]
    },
    {
      "cell_type": "code",
      "metadata": {
        "id": "cTMEUmNvLKUi",
        "colab_type": "code",
        "outputId": "ab0ba4d9-0311-4c06-f753-b59e0a0d09fe",
        "colab": {
          "base_uri": "https://localhost:8080/",
          "height": 70
        }
      },
      "source": [
        "input_data = torch.randn(1, 1, 3)\n",
        "conv_1D = nn.Conv1d(in_channels=1,\n",
        "                    out_channels=1,\n",
        "                    kernel_size=2,\n",
        "                    stride=1)\n",
        "\n",
        "out = conv_1D(input_data) \n",
        "print(out.size())\n",
        "print(conv_1D, conv_1D.weight)"
      ],
      "execution_count": 0,
      "outputs": [
        {
          "output_type": "stream",
          "text": [
            "torch.Size([1, 1, 2])\n",
            "Conv1d(1, 1, kernel_size=(2,), stride=(1,)) Parameter containing:\n",
            "tensor([[[ 0.4348, -0.2589]]], requires_grad=True)\n"
          ],
          "name": "stdout"
        }
      ]
    },
    {
      "cell_type": "code",
      "metadata": {
        "id": "v7HpMVc8LLAP",
        "colab_type": "code",
        "colab": {}
      },
      "source": [
        "input_tensor2data = input_data.numpy()[0,0,]\n",
        "conv1d_weight = conv_1D.weight.data.numpy()[0,0,]\n",
        "conv1d_bias = conv_1D.bias.data.numpy()"
      ],
      "execution_count": 0,
      "outputs": []
    },
    {
      "cell_type": "code",
      "metadata": {
        "id": "Zr0y40EHOk8G",
        "colab_type": "code",
        "outputId": "e93ab141-d4f2-41a0-ccc5-43e3efb48988",
        "colab": {
          "base_uri": "https://localhost:8080/",
          "height": 34
        }
      },
      "source": [
        "print(f\"입력 데이터 : {input_tensor2data},\\t Conv1D의 Weight : {conv1d_weight},\\t Conv1D의 가중치 : {conv1d_bias}\")"
      ],
      "execution_count": 0,
      "outputs": [
        {
          "output_type": "stream",
          "text": [
            "입력 데이터 : [ 0.9162371 -1.3271387  0.5480737],\t Conv1D의 Weight : [ 0.43479627 -0.25887537],\t Conv1D의 가중치 : [0.09194225]\n"
          ],
          "name": "stdout"
        }
      ]
    },
    {
      "cell_type": "code",
      "metadata": {
        "id": "uU8QDh6ZQQMV",
        "colab_type": "code",
        "outputId": "35d850ea-bac7-43d9-de1d-7bf77abe6c6f",
        "colab": {
          "base_uri": "https://localhost:8080/",
          "height": 34
        }
      },
      "source": [
        "print(f\"Conv1D 출력 값은 : {out}\")"
      ],
      "execution_count": 0,
      "outputs": [
        {
          "output_type": "stream",
          "text": [
            "Conv1D 출력 값은 : tensor([[[ 0.8339, -0.6270]]], grad_fn=<SqueezeBackward1>)\n"
          ],
          "name": "stdout"
        }
      ]
    },
    {
      "cell_type": "code",
      "metadata": {
        "id": "-apAoTDtPJUq",
        "colab_type": "code",
        "outputId": "6e2613c6-5610-4c37-e578-2ce0985d8c3f",
        "colab": {
          "base_uri": "https://localhost:8080/",
          "height": 34
        }
      },
      "source": [
        "output = list()\n",
        "for data_index, data in enumerate(input_tensor2data):\n",
        "  \n",
        "  temp = 0\n",
        "  for conv_idx, conv_w in enumerate(conv1d_weight):\n",
        "    if(data_index + conv_idx == len(input_tensor2data)): \n",
        "      temp = 0\n",
        "      break\n",
        "    temp += ( input_tensor2data[data_index+conv_idx] * conv_w )\n",
        "\n",
        "  if(temp != 0 ):\n",
        "    output.append(temp)\n",
        "\n",
        "print(f\"Conv1D 재현 값 : {output + conv1d_bias}\")"
      ],
      "execution_count": 0,
      "outputs": [
        {
          "output_type": "stream",
          "text": [
            "Conv1D 재현 값 : [ 0.83388227 -0.62697548]\n"
          ],
          "name": "stdout"
        }
      ]
    },
    {
      "cell_type": "markdown",
      "metadata": {
        "id": "UEsDpGGPFTNT",
        "colab_type": "text"
      },
      "source": [
        "Conv1D 입력 채널 1, 출력 채널 1,  커널 크기 2, 스트라이드 2일때 계산해보기"
      ]
    },
    {
      "cell_type": "code",
      "metadata": {
        "id": "qcco4NGOQqbH",
        "colab_type": "code",
        "outputId": "05154234-0025-4a53-8acf-359cae43783f",
        "colab": {
          "base_uri": "https://localhost:8080/",
          "height": 123
        }
      },
      "source": [
        "input_data = torch.randn(1, 1, 4)\n",
        "conv_1D = nn.Conv1d(in_channels=1,\n",
        "                    out_channels=1,\n",
        "                    kernel_size=2,\n",
        "                    stride=2)\n",
        "\n",
        "out = conv_1D(input_data) \n",
        "print(out.size())\n",
        "print(conv_1D, conv_1D.weight)\n",
        "\n",
        "input_tensor2data = input_data.numpy()[0,0,]\n",
        "conv1d_weight = conv_1D.weight.data.numpy()[0,0,]\n",
        "conv1d_bias = conv_1D.bias.data.numpy()\n",
        "\n",
        "print(f\"입력 데이터 : {input_tensor2data},\\t Conv1D의 Weight : {conv1d_weight},\\t Conv1D의 가중치 : {conv1d_bias}\\n\")\n",
        "print(f\"Conv1D 출력 값은 : {out}\")"
      ],
      "execution_count": 0,
      "outputs": [
        {
          "output_type": "stream",
          "text": [
            "torch.Size([1, 1, 2])\n",
            "Conv1d(1, 1, kernel_size=(2,), stride=(2,)) Parameter containing:\n",
            "tensor([[[ 0.3871, -0.6080]]], requires_grad=True)\n",
            "입력 데이터 : [-1.3365821  -0.79337174  0.30488676 -0.2093321 ],\t Conv1D의 Weight : [ 0.38709778 -0.608002  ],\t Conv1D의 가중치 : [0.42661768]\n",
            "\n",
            "Conv1D 출력 값은 : tensor([[[0.3916, 0.6719]]], grad_fn=<SqueezeBackward1>)\n"
          ],
          "name": "stdout"
        }
      ]
    },
    {
      "cell_type": "code",
      "metadata": {
        "id": "8vcl92OEFMW-",
        "colab_type": "code",
        "outputId": "4ba36bfc-873e-4780-feb7-285b069a014c",
        "colab": {
          "base_uri": "https://localhost:8080/",
          "height": 34
        }
      },
      "source": [
        "output = list()\n",
        "stride = 2\n",
        "for data_index, data in enumerate(input_tensor2data):\n",
        "  \n",
        "  if(data_index % stride != 0): continue # stride 처리 해주는 부분\n",
        "  \n",
        "  temp = 0\n",
        "  for conv_idx, conv_w in enumerate(conv1d_weight):\n",
        "    if(data_index + conv_idx == len(input_tensor2data)): \n",
        "      temp = 0\n",
        "      break\n",
        "    temp += ( input_tensor2data[data_index+conv_idx] * conv_w )\n",
        "\n",
        "  if(temp != 0 ):\n",
        "    output.append(temp)\n",
        "\n",
        "print(f\"Conv1D 재현 값 : {output + conv1d_bias}\")"
      ],
      "execution_count": 0,
      "outputs": [
        {
          "output_type": "stream",
          "text": [
            "Conv1D 재현 값 : [0.39160135 0.67191301]\n"
          ],
          "name": "stdout"
        }
      ]
    },
    {
      "cell_type": "code",
      "metadata": {
        "id": "o7aQQRrXFzwX",
        "colab_type": "code",
        "colab": {}
      },
      "source": [
        ""
      ],
      "execution_count": 0,
      "outputs": []
    }
  ]
}