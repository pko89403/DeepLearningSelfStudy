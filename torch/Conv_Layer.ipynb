{
  "nbformat": 4,
  "nbformat_minor": 0,
  "metadata": {
    "colab": {
      "name": "Conv_Layer.ipynb",
      "provenance": [],
      "collapsed_sections": [],
      "authorship_tag": "ABX9TyOsyrX1e3H9gH+aSoVKtqjy",
      "include_colab_link": true
    },
    "kernelspec": {
      "name": "python3",
      "display_name": "Python 3"
    }
  },
  "cells": [
    {
      "cell_type": "markdown",
      "metadata": {
        "id": "view-in-github",
        "colab_type": "text"
      },
      "source": [
        "<a href=\"https://colab.research.google.com/github/pko89403/Pytorch_SelfStudy/blob/master/Conv_Layer.ipynb\" target=\"_parent\"><img src=\"https://colab.research.google.com/assets/colab-badge.svg\" alt=\"Open In Colab\"/></a>"
      ]
    },
    {
      "cell_type": "code",
      "metadata": {
        "id": "RDX2J5lTBE_U",
        "colab_type": "code",
        "colab": {}
      },
      "source": [
        "import torch\n",
        "from torch import nn"
      ],
      "execution_count": 0,
      "outputs": []
    },
    {
      "cell_type": "code",
      "metadata": {
        "id": "lo7Ceix3CXXS",
        "colab_type": "code",
        "colab": {}
      },
      "source": [
        "input_data = torch.randn(1, 1, 1)\n",
        "conv_1D = nn.Conv1d(in_channels=1,\n",
        "                    out_channels=1,\n",
        "                    kernel_size=1,\n",
        "                    stride=1)"
      ],
      "execution_count": 0,
      "outputs": []
    },
    {
      "cell_type": "code",
      "metadata": {
        "id": "Si9hY-gaDCHs",
        "colab_type": "code",
        "outputId": "557a2af5-9584-4b47-e36e-02e77742a262",
        "colab": {
          "base_uri": "https://localhost:8080/",
          "height": 52
        }
      },
      "source": [
        "print(conv_1D, conv_1D.weight)"
      ],
      "execution_count": 125,
      "outputs": [
        {
          "output_type": "stream",
          "text": [
            "Conv1d(1, 1, kernel_size=(1,), stride=(1,)) Parameter containing:\n",
            "tensor([[[-0.5800]]], requires_grad=True)\n"
          ],
          "name": "stdout"
        }
      ]
    },
    {
      "cell_type": "code",
      "metadata": {
        "id": "-4ywt9h6C7y1",
        "colab_type": "code",
        "colab": {
          "base_uri": "https://localhost:8080/",
          "height": 34
        },
        "outputId": "1831228c-4bda-4a82-d15b-e808411bfb9f"
      },
      "source": [
        "out = conv_1D(input_data)\n",
        "print(f\"Conv1D 출력 값은 : {out}\")"
      ],
      "execution_count": 126,
      "outputs": [
        {
          "output_type": "stream",
          "text": [
            "Conv1D 출력 값은 : tensor([[[-0.3456]]], grad_fn=<SqueezeBackward1>)\n"
          ],
          "name": "stdout"
        }
      ]
    },
    {
      "cell_type": "code",
      "metadata": {
        "id": "NJsx1BzpIO79",
        "colab_type": "code",
        "colab": {
          "base_uri": "https://localhost:8080/",
          "height": 34
        },
        "outputId": "aa514426-e17c-49f4-fb44-38410f1e82d8"
      },
      "source": [
        "input_data = input_data.data\n",
        "conv_1d_w = conv_1D.weight.data\n",
        "conv_1d_b = conv_1D.bias.data\n",
        "print(f\"입력 데이터 : {input_data},\\t Conv1D의 Weight : {conv_1d_w},\\t Conv1D의 가중치 : {conv_1d_b}\")"
      ],
      "execution_count": 127,
      "outputs": [
        {
          "output_type": "stream",
          "text": [
            "입력 데이터 : tensor([[[0.4337]]]),\t Conv1D의 Weight : tensor([[[-0.5800]]]),\t Conv1D의 가중치 : tensor([-0.0941])\n"
          ],
          "name": "stdout"
        }
      ]
    },
    {
      "cell_type": "code",
      "metadata": {
        "id": "-iB4ygBWKQHk",
        "colab_type": "code",
        "colab": {
          "base_uri": "https://localhost:8080/",
          "height": 34
        },
        "outputId": "a4ffe1b0-b277-4454-ea12-1ce6c44ac86f"
      },
      "source": [
        "y = conv_1d_w * input_data + conv_1d_b # y = weight x + bias\n",
        "print(f\"Conv1D 재현 값 : {y}\")"
      ],
      "execution_count": 128,
      "outputs": [
        {
          "output_type": "stream",
          "text": [
            "Conv1D 재현 값 : tensor([[[-0.3456]]])\n"
          ],
          "name": "stdout"
        }
      ]
    },
    {
      "cell_type": "code",
      "metadata": {
        "id": "cTMEUmNvLKUi",
        "colab_type": "code",
        "colab": {
          "base_uri": "https://localhost:8080/",
          "height": 70
        },
        "outputId": "602ede71-0ed2-41cf-ddf8-5d85665cf591"
      },
      "source": [
        "input_data = torch.randn(1, 1, 3)\n",
        "conv_1D = nn.Conv1d(in_channels=1,\n",
        "                    out_channels=1,\n",
        "                    kernel_size=2,\n",
        "                    stride=1)\n",
        "\n",
        "out = conv_1D(input_data) \n",
        "print(out.size())\n",
        "print(conv_1D, conv_1D.weight)"
      ],
      "execution_count": 132,
      "outputs": [
        {
          "output_type": "stream",
          "text": [
            "torch.Size([1, 1, 2])\n",
            "Conv1d(1, 1, kernel_size=(2,), stride=(1,)) Parameter containing:\n",
            "tensor([[[0.4786, 0.1376]]], requires_grad=True)\n"
          ],
          "name": "stdout"
        }
      ]
    },
    {
      "cell_type": "code",
      "metadata": {
        "id": "v7HpMVc8LLAP",
        "colab_type": "code",
        "colab": {}
      },
      "source": [
        "input_tensor2data = input_data.numpy()[0,0,]\n",
        "conv1d_weight = conv_1D.weight.data.numpy()[0,0,]\n",
        "conv1d_bias = conv_1D.bias.data.numpy()"
      ],
      "execution_count": 0,
      "outputs": []
    },
    {
      "cell_type": "code",
      "metadata": {
        "id": "Zr0y40EHOk8G",
        "colab_type": "code",
        "colab": {
          "base_uri": "https://localhost:8080/",
          "height": 34
        },
        "outputId": "cbf8f588-4ba6-48ee-bf44-086945a82dfa"
      },
      "source": [
        "print(f\"입력 데이터 : {input_tensor2data},\\t Conv1D의 Weight : {conv1d_weight},\\t Conv1D의 가중치 : {conv1d_bias}\")"
      ],
      "execution_count": 154,
      "outputs": [
        {
          "output_type": "stream",
          "text": [
            "입력 데이터 : [-0.93516386 -0.6531756  -1.0167655 ],\t Conv1D의 Weight : [0.4785927  0.13762254],\t Conv1D의 가중치 : [0.3882144]\n"
          ],
          "name": "stdout"
        }
      ]
    },
    {
      "cell_type": "code",
      "metadata": {
        "id": "uU8QDh6ZQQMV",
        "colab_type": "code",
        "colab": {
          "base_uri": "https://localhost:8080/",
          "height": 34
        },
        "outputId": "6fc5df92-1387-4e43-a08e-37e2f0452c79"
      },
      "source": [
        "print(f\"Conv1D 출력 값은 : {out}\")"
      ],
      "execution_count": 155,
      "outputs": [
        {
          "output_type": "stream",
          "text": [
            "Conv1D 출력 값은 : tensor([[[-0.1492, -0.0643]]], grad_fn=<SqueezeBackward1>)\n"
          ],
          "name": "stdout"
        }
      ]
    },
    {
      "cell_type": "code",
      "metadata": {
        "id": "-apAoTDtPJUq",
        "colab_type": "code",
        "colab": {
          "base_uri": "https://localhost:8080/",
          "height": 34
        },
        "outputId": "7ab4ec44-fc71-44ab-9053-bcccd171c453"
      },
      "source": [
        "output = list()\n",
        "for data_index, data in enumerate(input_tensor2data):\n",
        "  \n",
        "  temp = 0\n",
        "  for conv_idx, conv_w in enumerate(conv1d_weight):\n",
        "    if(data_index + conv_idx == len(input_tensor2data)): \n",
        "      temp = 0\n",
        "      break\n",
        "    temp += ( input_tensor2data[data_index+conv_idx] * conv_w )\n",
        "\n",
        "  if(temp != 0 ):\n",
        "    output.append(temp)\n",
        "\n",
        "print(f\"Conv1D 재현 값 : {output + conv1d_bias}\")"
      ],
      "execution_count": 165,
      "outputs": [
        {
          "output_type": "stream",
          "text": [
            "Conv1D 재현 값 : [-0.14923985 -0.06432049]\n"
          ],
          "name": "stdout"
        }
      ]
    },
    {
      "cell_type": "code",
      "metadata": {
        "id": "qcco4NGOQqbH",
        "colab_type": "code",
        "colab": {}
      },
      "source": [
        ""
      ],
      "execution_count": 0,
      "outputs": []
    }
  ]
}