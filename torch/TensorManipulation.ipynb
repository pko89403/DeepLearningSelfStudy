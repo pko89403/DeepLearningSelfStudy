{
  "nbformat": 4,
  "nbformat_minor": 0,
  "metadata": {
    "colab": {
      "name": "TensorManipulation.ipynb",
      "provenance": [],
      "mount_file_id": "1Mk7cNoJqgaAOk3Y4AqJ2oujSOxrNFzj-",
      "authorship_tag": "ABX9TyMOAob9yoNGrcY9kQxLi8NQ",
      "include_colab_link": true
    },
    "kernelspec": {
      "name": "python3",
      "display_name": "Python 3"
    },
    "accelerator": "GPU"
  },
  "cells": [
    {
      "cell_type": "markdown",
      "metadata": {
        "id": "view-in-github",
        "colab_type": "text"
      },
      "source": [
        "<a href=\"https://colab.research.google.com/github/pko89403/DeepLearningSelfStudy/blob/master/TensorManipulation.ipynb\" target=\"_parent\"><img src=\"https://colab.research.google.com/assets/colab-badge.svg\" alt=\"Open In Colab\"/></a>"
      ]
    },
    {
      "cell_type": "markdown",
      "metadata": {
        "id": "beAfRvFBwvBv",
        "colab_type": "text"
      },
      "source": [
        "### Vector, Matrix and Tensor\n",
        "차원이 없는 값들을 scala   \n",
        "차원이 있는 값 중 1차원 vector, 2차원 matrix(행렬), 3차원 tensor\n",
        "\n",
        "### Pytorch Tensor Shape Convention\n",
        "- 2D Tensor\n",
        "  - 가장 기본적인 크기 \n",
        "  - |t| = (batch size, dim ) : batch size * dim \n",
        "\n",
        "- 3D Tensor \n",
        "  - 비전에서 가장 일반적인\n",
        "    - |t| = (batch size, width, height ) \n",
        "  - 자연어 처리에서\n",
        "    - |t| = (batch size, length, dim )"
      ]
    },
    {
      "cell_type": "code",
      "metadata": {
        "id": "gEd_UVBgv8nL",
        "colab_type": "code",
        "colab": {}
      },
      "source": [
        "import numpy as np\n",
        "import torch"
      ],
      "execution_count": 0,
      "outputs": []
    },
    {
      "cell_type": "code",
      "metadata": {
        "id": "SoXQNfIDytsd",
        "colab_type": "code",
        "colab": {
          "base_uri": "https://localhost:8080/",
          "height": 34
        },
        "outputId": "c6be5ed3-6c69-4533-b3f8-77a2bdb7580c"
      },
      "source": [
        "t = np.array([0., 1., 2., 3., 4., 5., 6.])\n",
        "print(t)"
      ],
      "execution_count": 2,
      "outputs": [
        {
          "output_type": "stream",
          "text": [
            "[0. 1. 2. 3. 4. 5. 6.]\n"
          ],
          "name": "stdout"
        }
      ]
    },
    {
      "cell_type": "code",
      "metadata": {
        "id": "tky1V-NkzVrq",
        "colab_type": "code",
        "colab": {
          "base_uri": "https://localhost:8080/",
          "height": 52
        },
        "outputId": "3e44dae3-67c1-48a6-c379-f2cf0f8f8235"
      },
      "source": [
        "print('Rank of t : ', t.ndim)\n",
        "print('Shape of t : ', t.shape)"
      ],
      "execution_count": 3,
      "outputs": [
        {
          "output_type": "stream",
          "text": [
            "Rank of t :  1\n",
            "Shape of t :  (7,)\n"
          ],
          "name": "stdout"
        }
      ]
    },
    {
      "cell_type": "code",
      "metadata": {
        "id": "hWOk_vFUzbSc",
        "colab_type": "code",
        "colab": {
          "base_uri": "https://localhost:8080/",
          "height": 70
        },
        "outputId": "d6f6803d-9349-45a0-8dc5-96b11f59df83"
      },
      "source": [
        "print('t[0] t[1] t[-1]  = ', t[0], t[1], t[-1]) # elemnent\n",
        "print('t[2:5] t[4:-1] = ', t[2:5], t[4:-1]) # slicing\n",
        "print('t[:2] t[3:]  = ', t[:2], t[3:])"
      ],
      "execution_count": 4,
      "outputs": [
        {
          "output_type": "stream",
          "text": [
            "t[0] t[1] t[-1]  =  0.0 1.0 6.0\n",
            "t[2:5] t[4:-1] =  [2. 3. 4.] [4. 5.]\n",
            "t[:2] t[3:]  =  [0. 1.] [3. 4. 5. 6.]\n"
          ],
          "name": "stdout"
        }
      ]
    },
    {
      "cell_type": "code",
      "metadata": {
        "id": "wskMOPcZzxK9",
        "colab_type": "code",
        "colab": {
          "base_uri": "https://localhost:8080/",
          "height": 52
        },
        "outputId": "88147656-f2f7-433b-f2da-3f69f816a1de"
      },
      "source": [
        "# 2차원 배열\n",
        "t = np.array([[0., 1., 2.], \n",
        "              [3., 4., 5.],\n",
        "              [6., 7., 8.]])\n",
        "print('Rank of t : ', t.ndim)\n",
        "print('Shape of t : ', t.shape)"
      ],
      "execution_count": 6,
      "outputs": [
        {
          "output_type": "stream",
          "text": [
            "Rank of t :  2\n",
            "Shape of t :  (3, 3)\n"
          ],
          "name": "stdout"
        }
      ]
    },
    {
      "cell_type": "code",
      "metadata": {
        "id": "d10kiuty0LaB",
        "colab_type": "code",
        "colab": {
          "base_uri": "https://localhost:8080/",
          "height": 34
        },
        "outputId": "6ee063f3-8f96-4202-afa4-0b6738a4fefb"
      },
      "source": [
        "# 파이토치에 대해서 똑같이\n",
        "t = torch.FloatTensor([0., 1., 2., 3., 4., 5., 6.])\n",
        "print(t)"
      ],
      "execution_count": 7,
      "outputs": [
        {
          "output_type": "stream",
          "text": [
            "tensor([0., 1., 2., 3., 4., 5., 6.])\n"
          ],
          "name": "stdout"
        }
      ]
    },
    {
      "cell_type": "code",
      "metadata": {
        "id": "KcBYml-n0_sx",
        "colab_type": "code",
        "colab": {
          "base_uri": "https://localhost:8080/",
          "height": 123
        },
        "outputId": "701f9d1d-5a2a-48a7-9069-440ab0daaaa0"
      },
      "source": [
        "print('Rank : ', t.dim())\n",
        "print('Shape : ', t.shape)\n",
        "print('Size : ', t.size())\n",
        "print('Element : ', t[0], t[1], t[-1])\n",
        "print('Slicing : ', t[2:5], t[4:-1])\n",
        "print('Slicing : ', t[:2], t[3:])"
      ],
      "execution_count": 9,
      "outputs": [
        {
          "output_type": "stream",
          "text": [
            "Rank :  1\n",
            "Shape :  torch.Size([7])\n",
            "Size :  torch.Size([7])\n",
            "Element :  tensor(0.) tensor(1.) tensor(6.)\n",
            "Slicing :  tensor([2., 3., 4.]) tensor([4., 5.])\n",
            "Slicing :  tensor([0., 1.]) tensor([3., 4., 5., 6.])\n"
          ],
          "name": "stdout"
        }
      ]
    },
    {
      "cell_type": "code",
      "metadata": {
        "id": "-c1z5Jx11X-0",
        "colab_type": "code",
        "colab": {
          "base_uri": "https://localhost:8080/",
          "height": 87
        },
        "outputId": "8a5740c5-f0a7-41d5-8d1a-8ba58fde7084"
      },
      "source": [
        "t = torch.FloatTensor([[1., 2., 3.,],\n",
        "                       [4., 5., 6.,],\n",
        "                       [7., 8., 9.,],\n",
        "                       [10., 11., 12.]\n",
        "                       ])\n",
        "print(t)"
      ],
      "execution_count": 10,
      "outputs": [
        {
          "output_type": "stream",
          "text": [
            "tensor([[ 1.,  2.,  3.],\n",
            "        [ 4.,  5.,  6.],\n",
            "        [ 7.,  8.,  9.],\n",
            "        [10., 11., 12.]])\n"
          ],
          "name": "stdout"
        }
      ]
    },
    {
      "cell_type": "code",
      "metadata": {
        "id": "wUKBNwG82KA3",
        "colab_type": "code",
        "colab": {
          "base_uri": "https://localhost:8080/",
          "height": 176
        },
        "outputId": "e1b50fbe-d188-4c1e-9757-1c6888fd9997"
      },
      "source": [
        "print('Rank : ', t.dim())\n",
        "print('Shape : ', t.shape)\n",
        "print('Size : ', t.size())\n",
        "print('Element : ', t[:, 1])\n",
        "print('Slicing size : ', t[:, 1].size())\n",
        "print('Slicing : ', t[:, :-1])"
      ],
      "execution_count": 11,
      "outputs": [
        {
          "output_type": "stream",
          "text": [
            "Rank :  2\n",
            "Shape :  torch.Size([4, 3])\n",
            "Size :  torch.Size([4, 3])\n",
            "Element :  tensor([ 2.,  5.,  8., 11.])\n",
            "Slicing size :  torch.Size([4])\n",
            "Slicing :  tensor([[ 1.,  2.],\n",
            "        [ 4.,  5.],\n",
            "        [ 7.,  8.],\n",
            "        [10., 11.]])\n"
          ],
          "name": "stdout"
        }
      ]
    },
    {
      "cell_type": "markdown",
      "metadata": {
        "id": "8oEx156s3Br-",
        "colab_type": "text"
      },
      "source": [
        "### BroadCasting\n",
        "파이토치는 BroadCasting을 지원한다.  \n",
        "다른 shape의 tensor들의 사이즈를 자동으로 맞추어 연산을 진행하는 것   \n",
        "자동으로 진행되므로 조금 신경 쓸 필요가 있다"
      ]
    },
    {
      "cell_type": "code",
      "metadata": {
        "id": "jpM7vEki2a3Q",
        "colab_type": "code",
        "colab": {
          "base_uri": "https://localhost:8080/",
          "height": 34
        },
        "outputId": "6477c623-3529-4f2e-92f1-f918ebe31634"
      },
      "source": [
        " # same shape\n",
        " m1 = torch.FloatTensor([[3, 3]])\n",
        " m2 = torch.FloatTensor([[2, 2]])\n",
        " print(m1 + m2 )"
      ],
      "execution_count": 12,
      "outputs": [
        {
          "output_type": "stream",
          "text": [
            "tensor([[5., 5.]])\n"
          ],
          "name": "stdout"
        }
      ]
    },
    {
      "cell_type": "code",
      "metadata": {
        "id": "-JWBVLXd4JXJ",
        "colab_type": "code",
        "colab": {
          "base_uri": "https://localhost:8080/",
          "height": 34
        },
        "outputId": "70922fa9-7259-4897-b697-a8c5e6c4ff8e"
      },
      "source": [
        "# vector + scalar\n",
        "m1 = torch.FloatTensor([[1, 2]])\n",
        "m2 = torch.FloatTensor([3])\n",
        "print(m1 + m2)"
      ],
      "execution_count": 13,
      "outputs": [
        {
          "output_type": "stream",
          "text": [
            "tensor([[4., 5.]])\n"
          ],
          "name": "stdout"
        }
      ]
    },
    {
      "cell_type": "code",
      "metadata": {
        "id": "lV9aR80F4SSG",
        "colab_type": "code",
        "colab": {
          "base_uri": "https://localhost:8080/",
          "height": 52
        },
        "outputId": "c28e0d1c-b032-4241-9437-c8393ee52337"
      },
      "source": [
        "# 2 x 1 Vector + 1 x 2 Vector\n",
        "m1 = torch.FloatTensor([[1,2]])\n",
        "m2 = torch.FloatTensor([[3], [4]])\n",
        "print(m1 + m2) # [3] * 2 , [4]* 2"
      ],
      "execution_count": 14,
      "outputs": [
        {
          "output_type": "stream",
          "text": [
            "tensor([[4., 5.],\n",
            "        [5., 6.]])\n"
          ],
          "name": "stdout"
        }
      ]
    },
    {
      "cell_type": "markdown",
      "metadata": {
        "id": "_cqZe1ux4z72",
        "colab_type": "text"
      },
      "source": [
        "### Multiplication vs Matrix Multiplication"
      ]
    },
    {
      "cell_type": "code",
      "metadata": {
        "id": "G6KQBOKO4kOW",
        "colab_type": "code",
        "colab": {
          "base_uri": "https://localhost:8080/",
          "height": 87
        },
        "outputId": "62cd3efc-227d-48b8-be66-d89af5c93858"
      },
      "source": [
        "m1 = torch.FloatTensor([[1,2], [3,4]])\n",
        "m2 = torch.FloatTensor([[1], [2]])\n",
        "\n",
        "print('Shape of Matrix 1: ', m1.shape)\n",
        "print('Shape of Matrix 2: ', m2.shape)\n",
        "print(m1.matmul(m2))"
      ],
      "execution_count": 15,
      "outputs": [
        {
          "output_type": "stream",
          "text": [
            "Shape of Matrix 1:  torch.Size([2, 2])\n",
            "Shape of Matrix 2:  torch.Size([2, 1])\n",
            "tensor([[ 5.],\n",
            "        [11.]])\n"
          ],
          "name": "stdout"
        }
      ]
    },
    {
      "cell_type": "code",
      "metadata": {
        "id": "p7opKH_y43lJ",
        "colab_type": "code",
        "colab": {
          "base_uri": "https://localhost:8080/",
          "height": 87
        },
        "outputId": "853020cd-120a-4dc0-d296-6ca465a661bc"
      },
      "source": [
        "print(m1 * m2 ) # element wise 곱이 된다. [1,2,3,4] x [1,1,2,2]\n",
        "print(m1.mul(m2)) # 계산 결과 [1*1, 1*2, 3*2, 4*2]"
      ],
      "execution_count": 17,
      "outputs": [
        {
          "output_type": "stream",
          "text": [
            "tensor([[1., 2.],\n",
            "        [6., 8.]])\n",
            "tensor([[1., 2.],\n",
            "        [6., 8.]])\n"
          ],
          "name": "stdout"
        }
      ]
    },
    {
      "cell_type": "markdown",
      "metadata": {
        "id": "74ufQ7if6XRV",
        "colab_type": "text"
      },
      "source": [
        "### Mean ( 특정 dimension을 없애주라 )\n",
        "Sum, Max 도 dim에 대해 같은 방식이다."
      ]
    },
    {
      "cell_type": "code",
      "metadata": {
        "id": "4DR4TZcC5stb",
        "colab_type": "code",
        "colab": {
          "base_uri": "https://localhost:8080/",
          "height": 34
        },
        "outputId": "5ff55533-cf08-42eb-fdc5-660e3cf232bd"
      },
      "source": [
        "t = torch.FloatTensor([1, 2])\n",
        "print(t.mean())"
      ],
      "execution_count": 18,
      "outputs": [
        {
          "output_type": "stream",
          "text": [
            "tensor(1.5000)\n"
          ],
          "name": "stdout"
        }
      ]
    },
    {
      "cell_type": "code",
      "metadata": {
        "id": "i478PfK964rR",
        "colab_type": "code",
        "colab": {
          "base_uri": "https://localhost:8080/",
          "height": 52
        },
        "outputId": "dfe7cf08-844b-427e-94fe-9a6e004f59f4"
      },
      "source": [
        "t = torch.FloatTensor([[1,2],[3,4]])\n",
        "print(t)"
      ],
      "execution_count": 19,
      "outputs": [
        {
          "output_type": "stream",
          "text": [
            "tensor([[1., 2.],\n",
            "        [3., 4.]])\n"
          ],
          "name": "stdout"
        }
      ]
    },
    {
      "cell_type": "code",
      "metadata": {
        "id": "-4jFbt-K7IMo",
        "colab_type": "code",
        "colab": {
          "base_uri": "https://localhost:8080/",
          "height": 87
        },
        "outputId": "f155ac38-c8c9-46e8-83de-91bb8b0ebcfa"
      },
      "source": [
        "print( t.mean() )\n",
        "print( t.mean(dim=0) ) # 0번째 차원을 없애 주라 -> [ (1+3) / 2, (2+4) / 2 ]\n",
        "print( t.mean(dim=1) ) # 1번째 차원을 없애 주라 ^  [ (1+2) / 2, (3+4) / 2 ]\n",
        "print( t.mean(dim=-1) )"
      ],
      "execution_count": 21,
      "outputs": [
        {
          "output_type": "stream",
          "text": [
            "tensor(2.5000)\n",
            "tensor([2., 3.])\n",
            "tensor([1.5000, 3.5000])\n",
            "tensor([1.5000, 3.5000])\n"
          ],
          "name": "stdout"
        }
      ]
    },
    {
      "cell_type": "markdown",
      "metadata": {
        "id": "shI6b6Fr8php",
        "colab_type": "text"
      },
      "source": [
        "### View( Reshape )\n",
        "모양을 다시 만들어 준다.   \n",
        "-1은 잘 모르겠으니깐 알아서 해라는 뜻!"
      ]
    },
    {
      "cell_type": "code",
      "metadata": {
        "id": "1BGdPF7q7N6K",
        "colab_type": "code",
        "colab": {
          "base_uri": "https://localhost:8080/",
          "height": 34
        },
        "outputId": "8818fbed-a978-494c-e49f-c59db2df8083"
      },
      "source": [
        "t = np.array([[[0, 1, 2],\n",
        "               [3, 4, 5]],\n",
        "               [[6, 7, 8],\n",
        "               [9, 10, 11]]])\n",
        "ft = torch.FloatTensor(t)\n",
        "print(ft.shape)"
      ],
      "execution_count": 25,
      "outputs": [
        {
          "output_type": "stream",
          "text": [
            "torch.Size([2, 2, 3])\n"
          ],
          "name": "stdout"
        }
      ]
    },
    {
      "cell_type": "code",
      "metadata": {
        "id": "Yc1rFWHd9kEi",
        "colab_type": "code",
        "colab": {
          "base_uri": "https://localhost:8080/",
          "height": 105
        },
        "outputId": "8ddbbfb1-f4f8-44cc-ba36-024155c7609c"
      },
      "source": [
        "print(ft.view([-1,3])) # 앞에껀 모르겠고 3개씩 가지는 걸로 만들어줘\n",
        "print(ft.view([-1,3]).shape)"
      ],
      "execution_count": 26,
      "outputs": [
        {
          "output_type": "stream",
          "text": [
            "tensor([[ 0.,  1.,  2.],\n",
            "        [ 3.,  4.,  5.],\n",
            "        [ 6.,  7.,  8.],\n",
            "        [ 9., 10., 11.]])\n",
            "torch.Size([4, 3])\n"
          ],
          "name": "stdout"
        }
      ]
    },
    {
      "cell_type": "code",
      "metadata": {
        "id": "-Vi-Lv5p-WUw",
        "colab_type": "code",
        "colab": {
          "base_uri": "https://localhost:8080/",
          "height": 158
        },
        "outputId": "3efce338-2f5f-41ca-db9d-e6219cb15518"
      },
      "source": [
        "print(ft.view([-1, 1, 3]))\n",
        "print(ft.view([-1, 1, 3]).shape)"
      ],
      "execution_count": 27,
      "outputs": [
        {
          "output_type": "stream",
          "text": [
            "tensor([[[ 0.,  1.,  2.]],\n",
            "\n",
            "        [[ 3.,  4.,  5.]],\n",
            "\n",
            "        [[ 6.,  7.,  8.]],\n",
            "\n",
            "        [[ 9., 10., 11.]]])\n",
            "torch.Size([4, 1, 3])\n"
          ],
          "name": "stdout"
        }
      ]
    },
    {
      "cell_type": "markdown",
      "metadata": {
        "id": "yctXtLef_YCB",
        "colab_type": "text"
      },
      "source": [
        "### Squeeze( 쥐어 짠다라는 뜻 )\n",
        "자동으로 element가 1인 차원 하나를 없애준다.\n",
        "### Unsqueeze ( 반대로 )\n",
        "내가 원하는 차원에 element 하나를 넣어준다. 원하는 차원을 명시해야한다.\n"
      ]
    },
    {
      "cell_type": "code",
      "metadata": {
        "id": "AyWUl5HJ-dNP",
        "colab_type": "code",
        "colab": {
          "base_uri": "https://localhost:8080/",
          "height": 87
        },
        "outputId": "58c550aa-c028-491b-820e-9146a1d6474b"
      },
      "source": [
        "ft = torch.FloatTensor([[0], [1], [2]])\n",
        "print( ft )\n",
        "print( ft.shape )"
      ],
      "execution_count": 30,
      "outputs": [
        {
          "output_type": "stream",
          "text": [
            "tensor([[0.],\n",
            "        [1.],\n",
            "        [2.]])\n",
            "torch.Size([3, 1])\n"
          ],
          "name": "stdout"
        }
      ]
    },
    {
      "cell_type": "code",
      "metadata": {
        "id": "Odz2p_TD_wDx",
        "colab_type": "code",
        "colab": {
          "base_uri": "https://localhost:8080/",
          "height": 52
        },
        "outputId": "6817b10b-2538-4fe6-963b-a2d9a6b60bc4"
      },
      "source": [
        "print( ft.squeeze() )\n",
        "print( ft.squeeze().shape )"
      ],
      "execution_count": 31,
      "outputs": [
        {
          "output_type": "stream",
          "text": [
            "tensor([0., 1., 2.])\n",
            "torch.Size([3])\n"
          ],
          "name": "stdout"
        }
      ]
    },
    {
      "cell_type": "code",
      "metadata": {
        "id": "VhKZCO6E_0Z6",
        "colab_type": "code",
        "colab": {
          "base_uri": "https://localhost:8080/",
          "height": 34
        },
        "outputId": "ed2063e8-180c-49c7-c1fc-f6152b2e93ad"
      },
      "source": [
        "ft = torch.Tensor([0,1,2])\n",
        "print(ft.shape)"
      ],
      "execution_count": 32,
      "outputs": [
        {
          "output_type": "stream",
          "text": [
            "torch.Size([3])\n"
          ],
          "name": "stdout"
        }
      ]
    },
    {
      "cell_type": "code",
      "metadata": {
        "id": "DItI9CEIASVe",
        "colab_type": "code",
        "colab": {
          "base_uri": "https://localhost:8080/",
          "height": 87
        },
        "outputId": "140105aa-5826-4fed-8fc5-450d83758f63"
      },
      "source": [
        "print(ft.unsqueeze(0))\n",
        "print(ft.unsqueeze(0).shape)\n",
        "\n",
        "print(ft.view(1,-1))\n",
        "print(ft.view(1,-1).shape)"
      ],
      "execution_count": 34,
      "outputs": [
        {
          "output_type": "stream",
          "text": [
            "tensor([[0., 1., 2.]])\n",
            "torch.Size([1, 3])\n",
            "tensor([[0., 1., 2.]])\n",
            "torch.Size([1, 3])\n"
          ],
          "name": "stdout"
        }
      ]
    },
    {
      "cell_type": "code",
      "metadata": {
        "id": "WQrDRIMjAXzR",
        "colab_type": "code",
        "colab": {
          "base_uri": "https://localhost:8080/",
          "height": 87
        },
        "outputId": "5bb59ebc-2405-417c-b7e8-a9511579878e"
      },
      "source": [
        "print(ft.unsqueeze(1))\n",
        "print(ft.unsqueeze(1).shape)"
      ],
      "execution_count": 35,
      "outputs": [
        {
          "output_type": "stream",
          "text": [
            "tensor([[0.],\n",
            "        [1.],\n",
            "        [2.]])\n",
            "torch.Size([3, 1])\n"
          ],
          "name": "stdout"
        }
      ]
    },
    {
      "cell_type": "markdown",
      "metadata": {
        "id": "SyAE0lsvAyIq",
        "colab_type": "text"
      },
      "source": [
        "### Type Casting"
      ]
    },
    {
      "cell_type": "code",
      "metadata": {
        "id": "19Pw20OeAmmq",
        "colab_type": "code",
        "colab": {
          "base_uri": "https://localhost:8080/",
          "height": 34
        },
        "outputId": "8807053f-919c-4fcc-c561-9fb000ece2d0"
      },
      "source": [
        "lt = torch.LongTensor([1,2,3,4])\n",
        "print(lt)"
      ],
      "execution_count": 36,
      "outputs": [
        {
          "output_type": "stream",
          "text": [
            "tensor([1, 2, 3, 4])\n"
          ],
          "name": "stdout"
        }
      ]
    },
    {
      "cell_type": "code",
      "metadata": {
        "id": "HCR_jdjOA1C-",
        "colab_type": "code",
        "colab": {
          "base_uri": "https://localhost:8080/",
          "height": 34
        },
        "outputId": "20abc9a5-959d-4696-b4ff-f5822ce31eff"
      },
      "source": [
        "print(lt.float())"
      ],
      "execution_count": 37,
      "outputs": [
        {
          "output_type": "stream",
          "text": [
            "tensor([1., 2., 3., 4.])\n"
          ],
          "name": "stdout"
        }
      ]
    },
    {
      "cell_type": "code",
      "metadata": {
        "id": "2K85rKYDA9m4",
        "colab_type": "code",
        "colab": {
          "base_uri": "https://localhost:8080/",
          "height": 34
        },
        "outputId": "3919e6fc-be64-4d0f-8bc1-47474dde8ae8"
      },
      "source": [
        "bt = torch.ByteTensor([True, False, False, True])\n",
        "print(bt)"
      ],
      "execution_count": 38,
      "outputs": [
        {
          "output_type": "stream",
          "text": [
            "tensor([1, 0, 0, 1], dtype=torch.uint8)\n"
          ],
          "name": "stdout"
        }
      ]
    },
    {
      "cell_type": "code",
      "metadata": {
        "id": "52PSMT6bBDL3",
        "colab_type": "code",
        "colab": {
          "base_uri": "https://localhost:8080/",
          "height": 52
        },
        "outputId": "970de423-23d9-4090-ae40-bbacbce28162"
      },
      "source": [
        "print(bt.long())\n",
        "print(bt.float())"
      ],
      "execution_count": 39,
      "outputs": [
        {
          "output_type": "stream",
          "text": [
            "tensor([1, 0, 0, 1])\n",
            "tensor([1., 0., 0., 1.])\n"
          ],
          "name": "stdout"
        }
      ]
    },
    {
      "cell_type": "markdown",
      "metadata": {
        "id": "amDdpWNVBrt7",
        "colab_type": "text"
      },
      "source": [
        "### Concatenate"
      ]
    },
    {
      "cell_type": "code",
      "metadata": {
        "id": "0mPz6OQ6BF-L",
        "colab_type": "code",
        "colab": {}
      },
      "source": [
        "x = torch.FloatTensor([[1, 2], [3, 4]])\n",
        "y = torch.FloatTensor([[5, 6], [7, 8]])"
      ],
      "execution_count": 0,
      "outputs": []
    },
    {
      "cell_type": "code",
      "metadata": {
        "id": "IKNmOs8oBkmz",
        "colab_type": "code",
        "colab": {
          "base_uri": "https://localhost:8080/",
          "height": 123
        },
        "outputId": "104c399f-b429-40e2-8201-a9e56b64feb1"
      },
      "source": [
        "print(torch.cat([x, y], dim=0))\n",
        "print(torch.cat([x, y], dim=1))"
      ],
      "execution_count": 41,
      "outputs": [
        {
          "output_type": "stream",
          "text": [
            "tensor([[1., 2.],\n",
            "        [3., 4.],\n",
            "        [5., 6.],\n",
            "        [7., 8.]])\n",
            "tensor([[1., 2., 5., 6.],\n",
            "        [3., 4., 7., 8.]])\n"
          ],
          "name": "stdout"
        }
      ]
    },
    {
      "cell_type": "markdown",
      "metadata": {
        "id": "PsGfYSlnB2aT",
        "colab_type": "text"
      },
      "source": [
        "### Stacking"
      ]
    },
    {
      "cell_type": "code",
      "metadata": {
        "id": "p0RSKzBmBps3",
        "colab_type": "code",
        "colab": {
          "base_uri": "https://localhost:8080/",
          "height": 34
        },
        "outputId": "d31f737b-c081-49df-f7cf-bde4ae077e92"
      },
      "source": [
        "x = torch.FloatTensor([1, 4])\n",
        "y = torch.FloatTensor([2, 5])\n",
        "z = torch.FloatTensor([3, 6])\n",
        "print(x.shape)"
      ],
      "execution_count": 47,
      "outputs": [
        {
          "output_type": "stream",
          "text": [
            "torch.Size([2])\n"
          ],
          "name": "stdout"
        }
      ]
    },
    {
      "cell_type": "code",
      "metadata": {
        "id": "t9Ezt0hDCAXW",
        "colab_type": "code",
        "colab": {
          "base_uri": "https://localhost:8080/",
          "height": 105
        },
        "outputId": "ed4bd14b-a731-4b2f-dcb6-e378c5820fbb"
      },
      "source": [
        "print(torch.stack([x,y,z]))\n",
        "print(torch.stack([x,y,z], dim =1))"
      ],
      "execution_count": 45,
      "outputs": [
        {
          "output_type": "stream",
          "text": [
            "tensor([[1., 4.],\n",
            "        [2., 5.],\n",
            "        [3., 6.]])\n",
            "tensor([[1., 2., 3.],\n",
            "        [4., 5., 6.]])\n"
          ],
          "name": "stdout"
        }
      ]
    },
    {
      "cell_type": "code",
      "metadata": {
        "id": "pbU8cCkwCIKp",
        "colab_type": "code",
        "colab": {
          "base_uri": "https://localhost:8080/",
          "height": 70
        },
        "outputId": "46ae70b9-476a-4a64-b604-db2046ee9438"
      },
      "source": [
        "print(torch.cat([x.unsqueeze(0), y.unsqueeze(0), z.unsqueeze(0)], dim=0))"
      ],
      "execution_count": 46,
      "outputs": [
        {
          "output_type": "stream",
          "text": [
            "tensor([[1., 4.],\n",
            "        [2., 5.],\n",
            "        [3., 6.]])\n"
          ],
          "name": "stdout"
        }
      ]
    },
    {
      "cell_type": "markdown",
      "metadata": {
        "id": "S5kzz6oYCooP",
        "colab_type": "text"
      },
      "source": [
        "### Ones and Zeros"
      ]
    },
    {
      "cell_type": "code",
      "metadata": {
        "id": "so2VDQJJCb8C",
        "colab_type": "code",
        "colab": {
          "base_uri": "https://localhost:8080/",
          "height": 52
        },
        "outputId": "fe9ce1a9-d1cc-4fd7-c0b0-eeb0cdf68086"
      },
      "source": [
        "x = torch.FloatTensor([[0,1,2], [2,1,0]])\n",
        "print(x)"
      ],
      "execution_count": 48,
      "outputs": [
        {
          "output_type": "stream",
          "text": [
            "tensor([[0., 1., 2.],\n",
            "        [2., 1., 0.]])\n"
          ],
          "name": "stdout"
        }
      ]
    },
    {
      "cell_type": "code",
      "metadata": {
        "id": "68d1UqTUCqaC",
        "colab_type": "code",
        "colab": {
          "base_uri": "https://localhost:8080/",
          "height": 87
        },
        "outputId": "4ed499ae-db06-4b9f-a0c2-4a2649c95dfa"
      },
      "source": [
        "print(torch.ones_like(x))\n",
        "print(torch.zeros_like(x))"
      ],
      "execution_count": 49,
      "outputs": [
        {
          "output_type": "stream",
          "text": [
            "tensor([[1., 1., 1.],\n",
            "        [1., 1., 1.]])\n",
            "tensor([[0., 0., 0.],\n",
            "        [0., 0., 0.]])\n"
          ],
          "name": "stdout"
        }
      ]
    },
    {
      "cell_type": "markdown",
      "metadata": {
        "id": "2aE-iXlEDM7D",
        "colab_type": "text"
      },
      "source": [
        "### In-place Operation"
      ]
    },
    {
      "cell_type": "code",
      "metadata": {
        "id": "YdM8cwkvCzj0",
        "colab_type": "code",
        "colab": {}
      },
      "source": [
        "x = torch.FloatTensor([[1,2], [3,4]])"
      ],
      "execution_count": 0,
      "outputs": []
    },
    {
      "cell_type": "code",
      "metadata": {
        "id": "6fPlFoqfDPZp",
        "colab_type": "code",
        "colab": {
          "base_uri": "https://localhost:8080/",
          "height": 158
        },
        "outputId": "19a2535f-a2f4-4d01-e42f-e79b7542523c"
      },
      "source": [
        "print(x.mul(2.))\n",
        "print(x)\n",
        "print(x.mul_(2.)) # IN-PLACE 모드 \n",
        "print(x)"
      ],
      "execution_count": 51,
      "outputs": [
        {
          "output_type": "stream",
          "text": [
            "tensor([[2., 4.],\n",
            "        [6., 8.]])\n",
            "tensor([[1., 2.],\n",
            "        [3., 4.]])\n",
            "tensor([[2., 4.],\n",
            "        [6., 8.]])\n",
            "tensor([[2., 4.],\n",
            "        [6., 8.]])\n"
          ],
          "name": "stdout"
        }
      ]
    },
    {
      "cell_type": "code",
      "metadata": {
        "id": "ttBvbybsDcDF",
        "colab_type": "code",
        "colab": {}
      },
      "source": [
        ""
      ],
      "execution_count": 0,
      "outputs": []
    }
  ]
}