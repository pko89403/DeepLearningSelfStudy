{
 "cells": [
  {
   "cell_type": "markdown",
   "metadata": {},
   "source": [
    "# 인공 신경망  \n",
    "- Forward Propagation : 입력값이 들어오면 여러 개의 은닉층을 순서대로 거쳐 결괏값을 내는 과정\n",
    "- Back propagation : 결과와 정답 차이로 계산된 손실을 연쇄법칙을 이용하여 입력 단까지 다시 전달하는 과정  \n",
    "\n",
    "loss.backward() 한 줄이면 각 변수별 기울기를 모두 계산합니다."
   ]
  },
  {
   "cell_type": "markdown",
   "metadata": {},
   "source": [
    "## 코드 설명\n",
    "하나의 x값이 들어가지만 최종적으로 하나의 결과값인 y가 들어온지만 중간에 몇 개의 hidden layer가 들어간다.  \n",
    "활성화 함수를 거치면서 비선형성이 보장된다  "
   ]
  },
  {
   "cell_type": "code",
   "execution_count": 13,
   "metadata": {},
   "outputs": [],
   "source": [
    "import torch\n",
    "import torch.nn as nn\n",
    "import torch.optim as optim\n",
    "import torch.nn.init as init\n",
    "\n",
    "num_data = 1000\n",
    "num_epoch = 10000\n",
    "\n",
    "noise = init.normal_(torch.FloatTensor(num_data, 1),\n",
    "                     std = 1)\n",
    "x = init.uniform_(torch.FloatTensor(num_data ,1),\n",
    "                  -15, 15)\n",
    "y = (x ** 2) + 3\n",
    "y_noise = y + noise"
   ]
  },
  {
   "cell_type": "markdown",
   "metadata": {},
   "source": [
    "nn.Sequential 클래스는 nn.Linear 과 nn.Relu 같은 모듈들을 순서대로 정렬해놓고  \n",
    "입력값이 들어오면 이 순서대로 모듈을 실행하여 결괏값을 리턴한다  \n",
    "인공신경망이 깊이가 깊어질 수록 하나하나 실행하는 것보다 nn.Sequential이 편리해진다"
   ]
  },
  {
   "cell_type": "code",
   "execution_count": 14,
   "metadata": {},
   "outputs": [],
   "source": [
    "model = nn.Sequential(  nn.Linear(1, 6),\n",
    "                        nn.ReLU(),\n",
    "                        nn.Linear(6, 10),\n",
    "                        nn.ReLU(),\n",
    "                        nn.Linear(10, 6),\n",
    "                        nn.ReLU(),\n",
    "                        nn.Linear(6, 1),\n",
    "                     )\n",
    "\n",
    "loss_func = nn.L1Loss()\n",
    "optimizer = optim.SGD(model.parameters(), lr=0.0002)"
   ]
  },
  {
   "cell_type": "code",
   "execution_count": 15,
   "metadata": {},
   "outputs": [],
   "source": [
    "loss_array = []\n",
    "\n",
    "for i in range(num_epoch):\n",
    "    optimizer.zero_grad()\n",
    "    output = model(x)\n",
    "    loss = loss_func(output, y_noise)\n",
    "    loss.backward()\n",
    "    optimizer.step()\n",
    "    \n",
    "    loss_array.append(loss)"
   ]
  },
  {
   "cell_type": "code",
   "execution_count": 16,
   "metadata": {},
   "outputs": [
    {
     "data": {
      "image/png": "[encoded data removed]",
      "text/plain": [
       "<Figure size 432x288 with 1 Axes>"
      ]
     },
     "metadata": {
      "needs_background": "light"
     },
     "output_type": "display_data"
    }
   ],
   "source": [
    "import matplotlib.pyplot as plt\n",
    "%matplotlib inline\n",
    "\n",
    "\n",
    "plt.plot(loss_array)\n",
    "plt.show()"
   ]
  },
  {
   "cell_type": "code",
   "execution_count": null,
   "metadata": {},
   "outputs": [],
   "source": []
  }
 ],
 "metadata": {
  "kernelspec": {
   "display_name": "pytorch_kernel",
   "language": "python",
   "name": "pytorch_kernel"
  },
  "language_info": {
   "codemirror_mode": {
    "name": "ipython",
    "version": 3
   },
   "file_extension": ".py",
   "mimetype": "text/x-python",
   "name": "python",
   "nbconvert_exporter": "python",
   "pygments_lexer": "ipython3",
   "version": "3.7.4"
  }
 },
 "nbformat": 4,
 "nbformat_minor": 4
}
