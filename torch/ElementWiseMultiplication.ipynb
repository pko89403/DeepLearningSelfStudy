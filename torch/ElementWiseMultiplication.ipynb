{
 "metadata": {
  "language_info": {
   "codemirror_mode": {
    "name": "ipython",
    "version": 3
   },
   "file_extension": ".py",
   "mimetype": "text/x-python",
   "name": "python",
   "nbconvert_exporter": "python",
   "pygments_lexer": "ipython3",
   "version": "3.7.6-final"
  },
  "orig_nbformat": 2,
  "kernelspec": {
   "name": "Python 3.7.6 64-bit ('recsys': conda)",
   "display_name": "Python 3.7.6 64-bit ('recsys': conda)",
   "metadata": {
    "interpreter": {
     "hash": "3e3ae0fa4a725afc921f1dce64743fc1e87f342ba5748ca33788c7a9a65676b3"
    }
   }
  }
 },
 "nbformat": 4,
 "nbformat_minor": 2,
 "cells": [
  {
   "source": [
    "[참고](https://www.aiworkbox.com/lessons/calculate-the-element-wise-hadamard-multiplication-of-matrices-in-pytorch)"
   ],
   "cell_type": "markdown",
   "metadata": {}
  },
  {
   "cell_type": "code",
   "execution_count": 1,
   "metadata": {},
   "outputs": [
    {
     "output_type": "execute_result",
     "data": {
      "text/plain": [
       "'1.6.0'"
      ]
     },
     "metadata": {},
     "execution_count": 1
    }
   ],
   "source": [
    "import torch \n",
    "torch.__version__"
   ]
  },
  {
   "cell_type": "code",
   "execution_count": 4,
   "metadata": {},
   "outputs": [
    {
     "output_type": "execute_result",
     "data": {
      "text/plain": [
       "tensor([[[1, 5, 9, 7],\n",
       "         [4, 9, 5, 1],\n",
       "         [9, 3, 8, 0]],\n",
       "\n",
       "        [[0, 7, 6, 6],\n",
       "         [0, 5, 5, 1],\n",
       "         [2, 1, 1, 8]]], dtype=torch.int32)"
      ]
     },
     "metadata": {},
     "execution_count": 4
    }
   ],
   "source": [
    "random_tensor_one_ex = (torch.rand(2, 3, 4) * 10).int()\n",
    "random_tensor_one_ex"
   ]
  },
  {
   "cell_type": "code",
   "execution_count": 9,
   "metadata": {},
   "outputs": [
    {
     "output_type": "execute_result",
     "data": {
      "text/plain": [
       "tensor([[[2, 6, 9, 5],\n",
       "         [1, 3, 7, 8],\n",
       "         [9, 6, 4, 8]],\n",
       "\n",
       "        [[5, 1, 6, 6],\n",
       "         [9, 5, 7, 7],\n",
       "         [1, 7, 8, 4]]], dtype=torch.int32)"
      ]
     },
     "metadata": {},
     "execution_count": 9
    }
   ],
   "source": [
    "random_tensor_two_ex = (torch.rand(2, 3, 4) * 10).int()\n",
    "random_tensor_two_ex"
   ]
  },
  {
   "cell_type": "code",
   "execution_count": 6,
   "metadata": {},
   "outputs": [
    {
     "output_type": "execute_result",
     "data": {
      "text/plain": [
       "tensor([[[ 2, 20, 45,  0],\n",
       "         [16, 18,  0,  4],\n",
       "         [72,  9,  8,  0]],\n",
       "\n",
       "        [[ 0, 14, 36, 36],\n",
       "         [ 0, 25, 30,  5],\n",
       "         [10,  0,  4, 72]]], dtype=torch.int32)"
      ]
     },
     "metadata": {},
     "execution_count": 6
    }
   ],
   "source": [
    "hadamard_product_ex = random_tensor_one_ex * random_tensor_two_ex\n",
    "hadamard_product_ex"
   ]
  },
  {
   "cell_type": "code",
   "execution_count": null,
   "metadata": {},
   "outputs": [],
   "source": [
    "s"
   ]
  }
 ]
}